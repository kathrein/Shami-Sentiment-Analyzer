{
  "nbformat": 4,
  "nbformat_minor": 0,
  "metadata": {
    "kernelspec": {
      "display_name": "Python 3",
      "language": "python",
      "name": "python3"
    },
    "language_info": {
      "codemirror_mode": {
        "name": "ipython",
        "version": 3
      },
      "file_extension": ".py",
      "mimetype": "text/x-python",
      "name": "python",
      "nbconvert_exporter": "python",
      "pygments_lexer": "ipython3",
      "version": "3.7.6"
    },
    "colab": {
      "provenance": [],
      "include_colab_link": true
    },
    "accelerator": "GPU"
  },
  "cells": [
    {
      "cell_type": "markdown",
      "metadata": {
        "id": "view-in-github",
        "colab_type": "text"
      },
      "source": [
        "<a href=\"https://colab.research.google.com/github/kathrein/Shami-Sentiment-Analyzer/blob/master/Arabic_Bert_Paper7.ipynb\" target=\"_parent\"><img src=\"https://colab.research.google.com/assets/colab-badge.svg\" alt=\"Open In Colab\"/></a>"
      ]
    },
    {
      "cell_type": "code",
      "metadata": {
        "colab": {
          "base_uri": "https://localhost:8080/"
        },
        "id": "l9-avIgQWTWe",
        "outputId": "a5e4bfb8-c111-4aab-b0c4-73c8e07f34e3"
      },
      "source": [
        "import os\n",
        "import re\n",
        "from tqdm import tqdm\n",
        "import numpy as np\n",
        "import pandas as pd\n",
        "import matplotlib.pyplot as plt\n",
        "import csv\n",
        "\n",
        "%matplotlib inline\n",
        "\n",
        "import torch\n",
        "\n",
        "# If there's a GPU available...\n",
        "if torch.cuda.is_available():    \n",
        "\n",
        "    # Tell PyTorch to use the GPU.    \n",
        "    device = torch.device(\"cuda\")\n",
        "\n",
        "    print('There are %d GPU(s) available.' % torch.cuda.device_count())\n",
        "\n",
        "    print('We will use the GPU:', torch.cuda.get_device_name(0))\n",
        "\n",
        "# If not...\n",
        "else:\n",
        "    print('No GPU available, using the CPU instead.')\n",
        "    device = torch.device(\"cpu\")"
      ],
      "execution_count": null,
      "outputs": [
        {
          "output_type": "stream",
          "name": "stdout",
          "text": [
            "There are 1 GPU(s) available.\n",
            "We will use the GPU: Tesla K80\n"
          ]
        }
      ]
    },
    {
      "cell_type": "markdown",
      "metadata": {
        "id": "idM3znBfWTWi"
      },
      "source": [
        "# Load Dataset"
      ]
    },
    {
      "cell_type": "code",
      "metadata": {
        "colab": {
          "base_uri": "https://localhost:8080/"
        },
        "id": "Cm3iZRIPWTWn",
        "outputId": "431c5d2f-de5e-4263-f275-55dbc7193aac"
      },
      "source": [
        "# Load the dataset into a pandas dataframe.\n",
        "#df = pd.read_csv(\"./Madar6.csv\", delimiter=';', header=None, names=['sentence', 'label'])\n",
        "#df = pd.read_csv(\"./shami.csv\", delimiter=';', header=None, names=['sentence', 'label'],encoding = \"utf-8\")\n",
        "#df = pd.read_csv(\"/Users/xabuka/PycharmProjects/Shami-Sentiment-Analyzer/data/ASTD/padic.csv\", delimiter=';', header=None, names=['sentence', 'label'],encoding = \"utf-8\")\n",
        "\n",
        "#df = pd.read_csv(\"./test_Arabic_tweets.tsv\", delimiter='\\t', header=None, names=['label_tag','sentence', 'label'],encoding = \"utf-16\")\n",
        "df = pd.read_csv(\"./40k.csv\", delimiter=';', header=None, names=['sentence', 'label'],encoding = \"utf-8\")\n",
        "#df = pd.read_csv(\"./2_labr_train.csv\", delimiter=';', header=None, names=['label','sentence'],encoding = \"utf-8\")\n",
        "#df = pd.read_csv(\"./astd.csv\", delimiter=';', header=None, names=['sentence','label_tag', 'label'],encoding = \"utf-8\")\n",
        "#df = pd.read_csv(\"./ATSAD.csv\", delimiter=';', header=None, names=['label_tag','sentence', 'label'],encoding = \"utf-8\")\n",
        "# Report the number of sentences.\n",
        "print('Number of  sentences: {:,}\\n'.format(df.shape[0]))\n",
        "\n",
        "# Display 10 random rows from the data.\n",
        "df = df.sample(frac=1).reset_index(drop=True)\n",
        "#df.head(10)"
      ],
      "execution_count": null,
      "outputs": [
        {
          "output_type": "stream",
          "name": "stdout",
          "text": [
            "Number of  sentences: 40,000\n",
            "\n"
          ]
        }
      ]
    },
    {
      "cell_type": "code",
      "metadata": {
        "colab": {
          "base_uri": "https://localhost:8080/"
        },
        "id": "9RM4Z6pEWTWp",
        "outputId": "c75a7dfa-9574-4a61-e387-ca4a06952ad6"
      },
      "source": [
        "all_sentences = df.sentence.values\n",
        "df.label = pd.factorize(df.label)[0]\n",
        "all_labels = df.label.values\n",
        "\n",
        "print(len(all_sentences))\n",
        "#if we have two seperated files for train and test, pleease commit the following code\n",
        "# and remove word all_ from the previous two lines.\n",
        "from sklearn.model_selection import train_test_split\n",
        "\n",
        "# as we have separate test set , then no need to split here\n",
        "train_df, test_df = train_test_split(df, test_size=0.1)\n",
        "#train_df = df\n",
        "X_train = train_df.sentence.values\n",
        "\n",
        "#convert labels to int\n",
        "#train_df.label = pd.factorize(train_df.label)[0]\n",
        "print('Number of total training sentences: {:,}\\n'.format(X_train.shape[0]))\n",
        "#print(train_df.sample(10))\n",
        "y_train = train_df.label.values\n",
        "#print(len(X_train))\n",
        "X_train, X_val, y_train, y_val = train_test_split(X_train,y_train,test_size=0.1, random_state=2020)\n",
        "#print(len(X_val))\n",
        "#print(labels[0:10])\n",
        "#print(len(y_train))\n",
        "df.sample(10)"
      ],
      "execution_count": null,
      "outputs": [
        {
          "output_type": "stream",
          "name": "stdout",
          "text": [
            "40000\n",
            "Number of total training sentences: 36,000\n",
            "\n"
          ]
        },
        {
          "output_type": "execute_result",
          "data": {
            "text/html": [
              "<div>\n",
              "<style scoped>\n",
              "    .dataframe tbody tr th:only-of-type {\n",
              "        vertical-align: middle;\n",
              "    }\n",
              "\n",
              "    .dataframe tbody tr th {\n",
              "        vertical-align: top;\n",
              "    }\n",
              "\n",
              "    .dataframe thead th {\n",
              "        text-align: right;\n",
              "    }\n",
              "</style>\n",
              "<table border=\"1\" class=\"dataframe\">\n",
              "  <thead>\n",
              "    <tr style=\"text-align: right;\">\n",
              "      <th></th>\n",
              "      <th>sentence</th>\n",
              "      <th>label</th>\n",
              "    </tr>\n",
              "  </thead>\n",
              "  <tbody>\n",
              "    <tr>\n",
              "      <th>6821</th>\n",
              "      <td>كنت إظن وكنت إظن وخاب ظني .</td>\n",
              "      <td>0</td>\n",
              "    </tr>\n",
              "    <tr>\n",
              "      <th>19168</th>\n",
              "      <td>لا شوفته على اليوتيوب بس ماعجبنيش .</td>\n",
              "      <td>0</td>\n",
              "    </tr>\n",
              "    <tr>\n",
              "      <th>31121</th>\n",
              "      <td>خلاص انا مش زعلانه .</td>\n",
              "      <td>1</td>\n",
              "    </tr>\n",
              "    <tr>\n",
              "      <th>7361</th>\n",
              "      <td>اولا احنا كدا طول عمرنا شعب بيحب الهزار والضحك...</td>\n",
              "      <td>0</td>\n",
              "    </tr>\n",
              "    <tr>\n",
              "      <th>39665</th>\n",
              "      <td>الحب و الاحساس و فى اختيار الناس .بيمشى على كي...</td>\n",
              "      <td>0</td>\n",
              "    </tr>\n",
              "    <tr>\n",
              "      <th>2120</th>\n",
              "      <td>سيبك من اى حاجه مضايقاك البطيخ طلع   .</td>\n",
              "      <td>1</td>\n",
              "    </tr>\n",
              "    <tr>\n",
              "      <th>30305</th>\n",
              "      <td>انتى جننتينا اقسم بالله .</td>\n",
              "      <td>0</td>\n",
              "    </tr>\n",
              "    <tr>\n",
              "      <th>8203</th>\n",
              "      <td>تفاهات لا تعليق بجد  .</td>\n",
              "      <td>0</td>\n",
              "    </tr>\n",
              "    <tr>\n",
              "      <th>12579</th>\n",
              "      <td>نفسك مفتوحة اوى   .</td>\n",
              "      <td>1</td>\n",
              "    </tr>\n",
              "    <tr>\n",
              "      <th>32691</th>\n",
              "      <td>لماذا نشتاق لطفولتنا ؟ لأنها المرحلة الوحيدة ا...</td>\n",
              "      <td>1</td>\n",
              "    </tr>\n",
              "  </tbody>\n",
              "</table>\n",
              "</div>"
            ],
            "text/plain": [
              "                                                sentence  label\n",
              "6821                        كنت إظن وكنت إظن وخاب ظني .       0\n",
              "19168               لا شوفته على اليوتيوب بس ماعجبنيش .       0\n",
              "31121                              خلاص انا مش زعلانه .       1\n",
              "7361   اولا احنا كدا طول عمرنا شعب بيحب الهزار والضحك...      0\n",
              "39665  الحب و الاحساس و فى اختيار الناس .بيمشى على كي...      0\n",
              "2120             سيبك من اى حاجه مضايقاك البطيخ طلع   .       1\n",
              "30305                         انتى جننتينا اقسم بالله .       0\n",
              "8203                             تفاهات لا تعليق بجد  .       0\n",
              "12579                               نفسك مفتوحة اوى   .       1\n",
              "32691  لماذا نشتاق لطفولتنا ؟ لأنها المرحلة الوحيدة ا...      1"
            ]
          },
          "metadata": {},
          "execution_count": 81
        }
      ]
    },
    {
      "cell_type": "code",
      "metadata": {
        "colab": {
          "base_uri": "https://localhost:8080/"
        },
        "id": "JXN0JGJiWTWq",
        "outputId": "e988132e-4f9e-46e5-87bf-0e291188c27b"
      },
      "source": [
        "df = test_df\n",
        "# Report the number of sentences.\n",
        "print('Number of test sentences: {:,}\\n'.format(df.shape[0]))\n",
        "\n",
        "# Create sentence and label lists\n",
        "X_test = test_df.sentence.values\n",
        "\n",
        "#df.label = pd.factorize(df.label)[0]\n",
        "y_test = test_df.label.values"
      ],
      "execution_count": null,
      "outputs": [
        {
          "output_type": "stream",
          "name": "stdout",
          "text": [
            "Number of test sentences: 4,000\n",
            "\n"
          ]
        }
      ]
    },
    {
      "cell_type": "markdown",
      "metadata": {
        "id": "qOOMNXp1mfhD"
      },
      "source": [
        "# Machine Learning"
      ]
    },
    {
      "cell_type": "code",
      "metadata": {
        "id": "jQ_599MRWTWq"
      },
      "source": [
        "# Helper functions \n",
        "from sklearn.feature_extraction.text import CountVectorizer\n",
        "from sklearn.feature_extraction.text import TfidfTransformer\n",
        "from sklearn.pipeline import Pipeline\n",
        "def train_model(model, data, targets):\n",
        "    text_clf = Pipeline([\n",
        "    ('vect', CountVectorizer()),\n",
        "    ('tfidf', TfidfTransformer()),\n",
        "    ('clf', model),\n",
        "    ])\n",
        "    text_clf.fit(data, targets)\n",
        "    return text_clf\n",
        "def get_accuracy(trained_model,X, y):\n",
        "    predicted = trained_model.predict(X)\n",
        "    accuracy = np.mean(predicted == y)\n",
        "    return accuracy"
      ],
      "execution_count": null,
      "outputs": []
    },
    {
      "cell_type": "code",
      "metadata": {
        "colab": {
          "base_uri": "https://localhost:8080/"
        },
        "id": "Zs5SFCrhWTWr",
        "outputId": "208599d7-15c2-4ef7-c900-73d07a08efe1"
      },
      "source": [
        "from sklearn.tree import DecisionTreeClassifier\n",
        "trained_clf_decision_tree = train_model(DecisionTreeClassifier(), X_train, y_train)\n",
        "accuracy = get_accuracy(trained_clf_decision_tree,X_test, y_test)\n",
        "print(f\"Test dataset accuracy with DecisionTreeClassifier: {accuracy:.2f}\")"
      ],
      "execution_count": null,
      "outputs": [
        {
          "output_type": "stream",
          "name": "stdout",
          "text": [
            "Test dataset accuracy with DecisionTreeClassifier: 0.70\n"
          ]
        }
      ]
    },
    {
      "cell_type": "code",
      "metadata": {
        "colab": {
          "base_uri": "https://localhost:8080/"
        },
        "id": "Uiuxq1RvWTWs",
        "outputId": "268dd74d-6480-4223-e98b-71d12876ae9b"
      },
      "source": [
        "from sklearn.naive_bayes import MultinomialNB\n",
        "trained_clf_multinomial_nb = train_model(MultinomialNB(), X_train, y_train)\n",
        "accuracy = get_accuracy(trained_clf_multinomial_nb,X_test, y_test)\n",
        "print(f\"Test dataset accuracy with MultinomialNB: {accuracy:.2f}\")"
      ],
      "execution_count": null,
      "outputs": [
        {
          "output_type": "stream",
          "name": "stdout",
          "text": [
            "Test dataset accuracy with MultinomialNB: 0.69\n"
          ]
        }
      ]
    },
    {
      "cell_type": "code",
      "metadata": {
        "colab": {
          "base_uri": "https://localhost:8080/"
        },
        "id": "QJo_W27EWTWu",
        "outputId": "723f6a0c-f1d1-4c90-bb2a-b78c4216edce"
      },
      "source": [
        "from sklearn.svm import LinearSVC\n",
        "trained_clf_linearSVC = train_model(LinearSVC(), X_train, y_train)\n",
        "accuracy = get_accuracy(trained_clf_linearSVC,X_test, y_test)\n",
        "print(f\"Test dataset accuracy with LinearSVC: {accuracy:.2f}\")"
      ],
      "execution_count": null,
      "outputs": [
        {
          "output_type": "stream",
          "name": "stdout",
          "text": [
            "Test dataset accuracy with LinearSVC: 0.77\n"
          ]
        }
      ]
    },
    {
      "cell_type": "code",
      "metadata": {
        "colab": {
          "base_uri": "https://localhost:8080/"
        },
        "id": "dTlPHDP2WTWv",
        "outputId": "73113db4-778b-4a40-c32b-e8f7bc5f61b1"
      },
      "source": [
        "from sklearn.ensemble import RandomForestClassifier\n",
        "trained_clf_random_forest = train_model(RandomForestClassifier(), X_train, y_train)\n",
        "accuracy = get_accuracy(trained_clf_random_forest,X_test, y_test)\n",
        "print(f\"Test dataset accuracy with RandomForestClassifier: {accuracy:.2f}\")"
      ],
      "execution_count": null,
      "outputs": [
        {
          "output_type": "stream",
          "name": "stdout",
          "text": [
            "Test dataset accuracy with RandomForestClassifier: 0.72\n"
          ]
        }
      ]
    },
    {
      "cell_type": "code",
      "metadata": {
        "id": "tOMbumLvmzji"
      },
      "source": [
        "d"
      ],
      "execution_count": null,
      "outputs": []
    },
    {
      "cell_type": "markdown",
      "metadata": {
        "id": "Nl98r-7Km5nM"
      },
      "source": []
    },
    {
      "cell_type": "markdown",
      "metadata": {
        "id": "OTu8U5TcWTWx"
      },
      "source": [
        "# Preparetion for BERT Arabic "
      ]
    },
    {
      "cell_type": "code",
      "metadata": {
        "colab": {
          "base_uri": "https://localhost:8080/"
        },
        "id": "KgfsLGLRWTWy",
        "outputId": "4c197224-527a-4c7f-ca65-b5deadd4ff72"
      },
      "source": [
        "!pip install transformers\n",
        "\n",
        "from transformers import AutoTokenizer, AutoModel\n",
        "tokenizer = AutoTokenizer.from_pretrained(\"asafaya/bert-mini-arabic\")\n",
        "\n"
      ],
      "execution_count": null,
      "outputs": [
        {
          "output_type": "stream",
          "name": "stdout",
          "text": [
            "Requirement already satisfied: transformers in /usr/local/lib/python3.7/dist-packages (4.12.5)\n",
            "Requirement already satisfied: sacremoses in /usr/local/lib/python3.7/dist-packages (from transformers) (0.0.46)\n",
            "Requirement already satisfied: tokenizers<0.11,>=0.10.1 in /usr/local/lib/python3.7/dist-packages (from transformers) (0.10.3)\n",
            "Requirement already satisfied: regex!=2019.12.17 in /usr/local/lib/python3.7/dist-packages (from transformers) (2019.12.20)\n",
            "Requirement already satisfied: pyyaml>=5.1 in /usr/local/lib/python3.7/dist-packages (from transformers) (6.0)\n",
            "Requirement already satisfied: huggingface-hub<1.0,>=0.1.0 in /usr/local/lib/python3.7/dist-packages (from transformers) (0.1.2)\n",
            "Requirement already satisfied: tqdm>=4.27 in /usr/local/lib/python3.7/dist-packages (from transformers) (4.62.3)\n",
            "Requirement already satisfied: packaging>=20.0 in /usr/local/lib/python3.7/dist-packages (from transformers) (21.3)\n",
            "Requirement already satisfied: numpy>=1.17 in /usr/local/lib/python3.7/dist-packages (from transformers) (1.19.5)\n",
            "Requirement already satisfied: importlib-metadata in /usr/local/lib/python3.7/dist-packages (from transformers) (4.8.2)\n",
            "Requirement already satisfied: requests in /usr/local/lib/python3.7/dist-packages (from transformers) (2.23.0)\n",
            "Requirement already satisfied: filelock in /usr/local/lib/python3.7/dist-packages (from transformers) (3.4.0)\n",
            "Requirement already satisfied: typing-extensions>=3.7.4.3 in /usr/local/lib/python3.7/dist-packages (from huggingface-hub<1.0,>=0.1.0->transformers) (3.10.0.2)\n",
            "Requirement already satisfied: pyparsing!=3.0.5,>=2.0.2 in /usr/local/lib/python3.7/dist-packages (from packaging>=20.0->transformers) (3.0.6)\n",
            "Requirement already satisfied: zipp>=0.5 in /usr/local/lib/python3.7/dist-packages (from importlib-metadata->transformers) (3.6.0)\n",
            "Requirement already satisfied: urllib3!=1.25.0,!=1.25.1,<1.26,>=1.21.1 in /usr/local/lib/python3.7/dist-packages (from requests->transformers) (1.24.3)\n",
            "Requirement already satisfied: idna<3,>=2.5 in /usr/local/lib/python3.7/dist-packages (from requests->transformers) (2.10)\n",
            "Requirement already satisfied: certifi>=2017.4.17 in /usr/local/lib/python3.7/dist-packages (from requests->transformers) (2021.10.8)\n",
            "Requirement already satisfied: chardet<4,>=3.0.2 in /usr/local/lib/python3.7/dist-packages (from requests->transformers) (3.0.4)\n",
            "Requirement already satisfied: joblib in /usr/local/lib/python3.7/dist-packages (from sacremoses->transformers) (1.1.0)\n",
            "Requirement already satisfied: click in /usr/local/lib/python3.7/dist-packages (from sacremoses->transformers) (7.1.2)\n",
            "Requirement already satisfied: six in /usr/local/lib/python3.7/dist-packages (from sacremoses->transformers) (1.15.0)\n"
          ]
        }
      ]
    },
    {
      "cell_type": "markdown",
      "metadata": {
        "id": "5zpZzzhtEsZw"
      },
      "source": [
        "# Define functions"
      ]
    },
    {
      "cell_type": "code",
      "metadata": {
        "id": "F0VfecQ-Wt7R"
      },
      "source": [
        "# Define preprocessing util function\n",
        "def text_preprocessing(text):\n",
        "    \"\"\"\n",
        "    - Remove entity mentions (eg. '@united')\n",
        "    - Correct errors (eg. '&amp;' to '&')\n",
        "    @param    text (str): a string to be processed.\n",
        "    @return   text (Str): the processed string.\n",
        "    \"\"\"\n",
        "  \n",
        "\n",
        "    # Normalize unicode encoding\n",
        "    text = unicodedata.normalize('NFC', text)\n",
        "    # Remove '@name'\n",
        "    text = re.sub(r'(@.*?)[\\s]', ' ', text)\n",
        "\n",
        "    # Replace '&amp;' with '&'\n",
        "    text = re.sub(r'&amp;', '&', text)\n",
        "\n",
        "    # Remove trailing whitespace\n",
        "    text = re.sub(r'\\s+', ' ', text).strip()\n",
        "    \n",
        "    #Remove URLs\n",
        "    text = re.sub(r'^https?:\\/\\/.*[\\r\\n]*', '<URL>', text)\n",
        "\n",
        "\n",
        "    return text"
      ],
      "execution_count": null,
      "outputs": []
    },
    {
      "cell_type": "code",
      "metadata": {
        "id": "LSPTzxwUW2V8"
      },
      "source": [
        "# Create a function to tokenize a set of texts\n",
        "import unicodedata\n",
        "def preprocessing_for_bert(data,labels, version=\"mini\", text_preprocessing_fn = text_preprocessing ):\n",
        "    \"\"\"Perform required preprocessing steps for pretrained BERT.\n",
        "    @param    data (np.array): Array of texts to be processed.\n",
        "    @return   input_ids (torch.Tensor): Tensor of token ids to be fed to a model.\n",
        "    @return   attention_masks (torch.Tensor): Tensor of indices specifying which\n",
        "                  tokens should be attended to by the model.\n",
        "    \"\"\"\n",
        "    # Create empty lists to store outputs\n",
        "    input_ids = []\n",
        "    attention_masks = []\n",
        "    tokenizer = AutoTokenizer.from_pretrained(\"asafaya/bert-mini-arabic\") if version == \"mini\" else AutoTokenizer.from_pretrained(\"asafaya/bert-base-arabic\")\n",
        "\n",
        "    # For every sentence...\n",
        "    for i,sent in enumerate(data):\n",
        "        # `encode_plus` will:\n",
        "        #    (1) Tokenize the sentence\n",
        "        #    (2) Add the `[CLS]` and `[SEP]` token to the start and end\n",
        "        #    (3) Truncate/Pad sentence to max length\n",
        "        #    (4) Map tokens to their IDs\n",
        "        #    (5) Create attention mask\n",
        "        #    (6) Return a dictionary of outputs\n",
        "        encoded_sent = tokenizer.encode_plus(\n",
        "            text=text_preprocessing_fn(sent),  # Preprocess sentence\n",
        "            add_special_tokens=True,        # Add `[CLS]` and `[SEP]`\n",
        "            max_length=MAX_LEN,                  # Max length to truncate/pad\n",
        "            padding='max_length',        # Pad sentence to max length\n",
        "            #return_tensors='pt',           # Return PyTorch tensor\n",
        "            return_attention_mask=True,     # Return attention mask\n",
        "            truncation = True \n",
        "            )\n",
        "        \n",
        "        # Add the outputs to the lists\n",
        "        input_ids.append(encoded_sent.get('input_ids'))\n",
        "        attention_masks.append(encoded_sent.get('attention_mask'))\n",
        "    # Convert lists to tensors\n",
        "    input_ids = torch.tensor(input_ids)\n",
        "    attention_masks = torch.tensor(attention_masks)\n",
        "    input_labels = torch.tensor(labels) \n",
        "\n",
        "\n",
        "    return input_ids, attention_masks,input_labels"
      ],
      "execution_count": null,
      "outputs": []
    },
    {
      "cell_type": "code",
      "metadata": {
        "colab": {
          "base_uri": "https://localhost:8080/"
        },
        "id": "L9b_v0doW7_d",
        "outputId": "fd826199-a5b0-4765-842f-3b3426bd4596"
      },
      "source": [
        "# Specify `MAX_LEN`\n",
        "MAX_LEN =  280\n",
        "#MAX_LEN = 130# ASTD #512 for labr #50 for train_tweets and self tweet #120 for 40k tweets\n",
        "# Print sentence 0 and its encoded token ids\n",
        "token_ids = list(preprocessing_for_bert([X_train[0]],[y_train[0]])[0].squeeze().numpy())\n",
        "print('Original: ', X_train[0])\n",
        "print('Token IDs: ', token_ids)\n",
        "\n",
        "# Run function `preprocessing_for_bert` on the train set and the validation set\n",
        "print('Tokenizing data...')\n",
        "train_inputs, train_masks,_ = preprocessing_for_bert(X_train,y_train)\n",
        "val_inputs, val_masks,_ = preprocessing_for_bert(X_val,y_val)"
      ],
      "execution_count": null,
      "outputs": [
        {
          "output_type": "stream",
          "name": "stdout",
          "text": [
            "Original:  لينك برنامج الاوفيس كامل عربي.\n",
            "Token IDs:  [2, 5119, 1014, 2776, 29996, 1801, 4092, 4542, 18, 3, 0, 0, 0, 0, 0, 0, 0, 0, 0, 0, 0, 0, 0, 0, 0, 0, 0, 0, 0, 0, 0, 0, 0, 0, 0, 0, 0, 0, 0, 0, 0, 0, 0, 0, 0, 0, 0, 0, 0, 0, 0, 0, 0, 0, 0, 0, 0, 0, 0, 0, 0, 0, 0, 0, 0, 0, 0, 0, 0, 0, 0, 0, 0, 0, 0, 0, 0, 0, 0, 0, 0, 0, 0, 0, 0, 0, 0, 0, 0, 0, 0, 0, 0, 0, 0, 0, 0, 0, 0, 0, 0, 0, 0, 0, 0, 0, 0, 0, 0, 0, 0, 0, 0, 0, 0, 0, 0, 0, 0, 0, 0, 0, 0, 0, 0, 0, 0, 0, 0, 0, 0, 0, 0, 0, 0, 0, 0, 0, 0, 0, 0, 0, 0, 0, 0, 0, 0, 0, 0, 0, 0, 0, 0, 0, 0, 0, 0, 0, 0, 0, 0, 0, 0, 0, 0, 0, 0, 0, 0, 0, 0, 0, 0, 0, 0, 0, 0, 0, 0, 0, 0, 0, 0, 0, 0, 0, 0, 0, 0, 0, 0, 0, 0, 0, 0, 0, 0, 0, 0, 0, 0, 0, 0, 0, 0, 0, 0, 0, 0, 0, 0, 0, 0, 0, 0, 0, 0, 0, 0, 0, 0, 0, 0, 0, 0, 0, 0, 0, 0, 0, 0, 0, 0, 0, 0, 0, 0, 0, 0, 0, 0, 0, 0, 0, 0, 0, 0, 0, 0, 0, 0, 0, 0, 0, 0, 0, 0, 0, 0, 0, 0, 0, 0, 0, 0, 0, 0, 0, 0, 0, 0, 0, 0, 0, 0, 0, 0, 0, 0, 0]\n",
            "Tokenizing data...\n"
          ]
        }
      ]
    },
    {
      "cell_type": "code",
      "metadata": {
        "id": "o6PX-ng7ZaH7"
      },
      "source": [
        "from torch.utils.data import TensorDataset, DataLoader, RandomSampler, SequentialSampler\n",
        "\n",
        "# Convert other data types to torch.Tensor\n",
        "train_labels = torch.tensor(y_train)\n",
        "val_labels = torch.tensor(y_val)\n",
        "\n",
        "# For fine-tuning BERT, the authors recommend a batch size of 16 or 32.\n",
        "BATCH_SIZE = 16\n",
        "\n",
        "# Create the DataLoader for our training set\n",
        "train_data = TensorDataset(train_inputs, train_masks, train_labels)\n",
        "train_sampler = RandomSampler(train_data)\n",
        "train_dataloader = DataLoader(train_data, sampler=train_sampler, batch_size=BATCH_SIZE)\n",
        "\n",
        "# Create the DataLoader for our validation set\n",
        "val_data = TensorDataset(val_inputs, val_masks, val_labels)\n",
        "val_sampler = SequentialSampler(val_data)\n",
        "val_dataloader = DataLoader(val_data, sampler=val_sampler, batch_size=BATCH_SIZE)"
      ],
      "execution_count": null,
      "outputs": []
    },
    {
      "cell_type": "code",
      "metadata": {
        "colab": {
          "base_uri": "https://localhost:8080/"
        },
        "id": "iD2vP28OZjNb",
        "outputId": "ea782b05-2d21-447e-8f25-8d71310979c6"
      },
      "source": [
        "%%time\n",
        "import torch\n",
        "import torch.nn as nn\n",
        "from transformers import BertModel\n",
        "\n",
        "# Create the BertClassfier class\n",
        "class BertClassifier(nn.Module):\n",
        "    \"\"\"Bert Model for Classification Tasks.\n",
        "    \"\"\"\n",
        "    def __init__(self, freeze_bert=False, version=\"mini\"):\n",
        "        \"\"\"\n",
        "        @param    bert: a BertModel object\n",
        "        @param    classifier: a torch.nn.Module classifier\n",
        "        @param    freeze_bert (bool): Set `False` to fine-tune the BERT model\n",
        "        \"\"\"\n",
        "        super(BertClassifier, self).__init__()\n",
        "        # Specify hidden size of BERT, hidden size of our classifier, and number of labels\n",
        "        D_in = 256 if version == \"mini\" else 768\n",
        "        H, D_out = 50, 2\n",
        "\n",
        "        # Instantiate BERT model\n",
        "        self.bert = AutoModel.from_pretrained(\"asafaya/bert-mini-arabic\") if version == \"mini\" else AutoModel.from_pretrained(\"asafaya/bert-base-arabic\")\n",
        "        # Instantiate an one-layer feed-forward classifier\n",
        "        self.classifier = nn.Sequential(\n",
        "            nn.Linear(D_in, H),\n",
        "            nn.ReLU(),\n",
        "            nn.Dropout(0.5),\n",
        "            nn.Linear(H, D_out)\n",
        "        )\n",
        "\n",
        "        # Freeze the BERT model\n",
        "        if freeze_bert:\n",
        "            for param in self.bert.parameters():\n",
        "                param.requires_grad = False\n",
        "        \n",
        "    def forward(self, input_ids, attention_mask):\n",
        "        \"\"\"\n",
        "        Feed input to BERT and the classifier to compute logits.\n",
        "        @param    input_ids (torch.Tensor): an input tensor with shape (batch_size,\n",
        "                      max_length)\n",
        "        @param    attention_mask (torch.Tensor): a tensor that hold attention mask\n",
        "                      information with shape (batch_size, max_length)\n",
        "        @return   logits (torch.Tensor): an output tensor with shape (batch_size,\n",
        "                      num_labels)\n",
        "        \"\"\"\n",
        "        # Feed input to BERT\n",
        "        outputs = self.bert(input_ids=input_ids,\n",
        "                            attention_mask=attention_mask)\n",
        "        \n",
        "        # Extract the last hidden state of the token `[CLS]` for classification task\n",
        "        last_hidden_state_cls = outputs[0][:, 0, :]\n",
        "\n",
        "        # Feed input to classifier to compute logits\n",
        "        logits = self.classifier(last_hidden_state_cls)\n",
        "\n",
        "        return logits"
      ],
      "execution_count": null,
      "outputs": [
        {
          "output_type": "stream",
          "name": "stdout",
          "text": [
            "CPU times: user 41 µs, sys: 0 ns, total: 41 µs\n",
            "Wall time: 44.8 µs\n"
          ]
        }
      ]
    },
    {
      "cell_type": "code",
      "metadata": {
        "id": "xCbjhxuXZqN7"
      },
      "source": [
        "from transformers import AdamW, get_linear_schedule_with_warmup\n",
        "\n",
        "from torch.optim import SparseAdam, Adam\n",
        "def initialize_model(epochs=4, version=\"mini\"):\n",
        "    \"\"\"Initialize the Bert Classifier, the optimizer and the learning rate scheduler.\n",
        "    \"\"\"\n",
        "    # Instantiate Bert Classifier\n",
        "    bert_classifier = BertClassifier(freeze_bert=False, version=version)\n",
        "    # Tell PyTorch to run the model on GPU\n",
        "    bert_classifier.to(device)\n",
        "\n",
        "    # Create the optimizer\n",
        "    optimizer = AdamW(params=list(bert_classifier.parameters()),\n",
        "                      lr=5e-5,    # Default learning rate\n",
        "                      eps=1e-8    # Default epsilon value\n",
        "                      )\n",
        "\n",
        "    # Total number of training steps\n",
        "    total_steps = len(train_dataloader) * epochs\n",
        "\n",
        "    # Set up the learning rate scheduler\n",
        "    scheduler = get_linear_schedule_with_warmup(optimizer,\n",
        "                                                num_warmup_steps=0, # Default value\n",
        "                                                num_training_steps=total_steps)\n",
        "    return bert_classifier, optimizer, scheduler"
      ],
      "execution_count": null,
      "outputs": []
    },
    {
      "cell_type": "code",
      "metadata": {
        "id": "jVvEILfOZwC_"
      },
      "source": [
        "import random\n",
        "import time\n",
        "import torch\n",
        "import torch.nn as nn\n",
        "# Specify loss function\n",
        "loss_fn = nn.CrossEntropyLoss()\n",
        "\n",
        "def set_seed(seed_value=42):\n",
        "    \"\"\"Set seed for reproducibility.\n",
        "    \"\"\"\n",
        "    random.seed(seed_value)\n",
        "    np.random.seed(seed_value)\n",
        "    torch.manual_seed(seed_value)\n",
        "    torch.cuda.manual_seed_all(seed_value)\n",
        "\n",
        "def train(model, train_dataloader, val_dataloader=None, epochs=4, evaluation=False):\n",
        "    \"\"\"Train the BertClassifier model.\n",
        "    \"\"\"\n",
        "    # Start training loop\n",
        "    print(\"Start training...\\n\")\n",
        "    \n",
        "    loss_values = []\n",
        "\n",
        "    for epoch_i in range(epochs):\n",
        "        # =======================================\n",
        "        #               Training\n",
        "        # =======================================\n",
        "        # Print the header of the result table\n",
        "        print(f\"{'Epoch':^7} | {'Batch':^7} | {'Train Loss':^12} | {'Val Loss':^10} | {'Val Acc':^9} | {'Elapsed':^9}\")\n",
        "        print(\"-\"*70)\n",
        "\n",
        "        # Measure the elapsed time of each epoch\n",
        "        t0_epoch, t0_batch = time.time(), time.time()\n",
        "\n",
        "        # Reset tracking variables at the beginning of each epoch\n",
        "        total_loss, batch_loss, batch_counts = 0, 0, 0\n",
        "\n",
        "        # Put the model into the training mode\n",
        "        model.train()\n",
        "\n",
        "        # For each batch of training data...\n",
        "        for step, batch in enumerate(train_dataloader):\n",
        "            batch_counts +=1\n",
        "            # Load batch to GPU\n",
        "            b_input_ids, b_attn_mask, b_labels = tuple(t.to(device) for t in batch)\n",
        "\n",
        "            # Zero out any previously calculated gradients\n",
        "            model.zero_grad()\n",
        "\n",
        "            # Perform a forward pass. This will return logits.\n",
        "            logits = model(b_input_ids, b_attn_mask)\n",
        "\n",
        "            # Compute loss and accumulate the loss values\n",
        "            loss = loss_fn(logits, b_labels)\n",
        "            batch_loss += loss.item()\n",
        "            total_loss += loss.item()\n",
        "\n",
        "            # Perform a backward pass to calculate gradients\n",
        "            loss.backward()\n",
        "\n",
        "            # Clip the norm of the gradients to 1.0 to prevent \"exploding gradients\"\n",
        "            torch.nn.utils.clip_grad_norm_(model.parameters(), 1.0)\n",
        "\n",
        "            # Update parameters and the learning rate\n",
        "            optimizer.step()\n",
        "            scheduler.step()\n",
        "\n",
        "            # Print the loss values and time elapsed for every 20 batches\n",
        "            if (step % 20 == 0 and step != 0) or (step == len(train_dataloader) - 1):\n",
        "                # Calculate time elapsed for 20 batches\n",
        "                time_elapsed = time.time() - t0_batch\n",
        "\n",
        "                # Print training results\n",
        "                print(f\"{epoch_i + 1:^7} | {step:^7} | {batch_loss / batch_counts:^12.6f} | {'-':^10} | {'-':^9} | {time_elapsed:^9.2f}\")\n",
        "\n",
        "                # Reset batch tracking variables\n",
        "                batch_loss, batch_counts = 0, 0\n",
        "                t0_batch = time.time()\n",
        "\n",
        "        # Calculate the average loss over the entire training data\n",
        "        avg_train_loss = total_loss / len(train_dataloader)\n",
        "        loss_values.append(avg_train_loss)\n",
        "        print(\"-\"*70)\n",
        "        # =======================================\n",
        "        #               Evaluation\n",
        "        # =======================================\n",
        "        if evaluation == True:\n",
        "            # After the completion of each training epoch, measure the model's performance\n",
        "            # on our validation set.\n",
        "            val_loss, val_accuracy = evaluate(model, val_dataloader)\n",
        "\n",
        "            # Print performance over the entire training data\n",
        "            time_elapsed = time.time() - t0_epoch\n",
        "            \n",
        "            print(f\"{epoch_i + 1:^7} | {'-':^7} | {avg_train_loss:^12.6f} | {val_loss:^10.6f} | {val_accuracy:^9.2f} | {time_elapsed:^9.2f}\")\n",
        "            print(\"-\"*70)\n",
        "        print(\"\\n\")\n",
        "    \n",
        "    print(\"Training complete!\")\n",
        "    return loss_values\n",
        "\n",
        "\n",
        "def evaluate(model, val_dataloader):\n",
        "    \"\"\"After the completion of each training epoch, measure the model's performance\n",
        "    on our validation set.\n",
        "    \"\"\"\n",
        "    # Put the model into the evaluation mode. The dropout layers are disabled during\n",
        "    # the test time.\n",
        "    model.eval()\n",
        "\n",
        "    # Tracking variables\n",
        "    val_accuracy = []\n",
        "    val_loss = []\n",
        "\n",
        "    # For each batch in our validation set...\n",
        "    for batch in val_dataloader:\n",
        "        # Load batch to GPU\n",
        "        b_input_ids, b_attn_mask, b_labels = tuple(t.to(device) for t in batch)\n",
        "\n",
        "        # Compute logits\n",
        "        with torch.no_grad():\n",
        "            logits = model(b_input_ids, b_attn_mask)\n",
        "\n",
        "        # Compute loss\n",
        "        loss = loss_fn(logits, b_labels)\n",
        "        val_loss.append(loss.item())\n",
        "\n",
        "        # Get the predictions\n",
        "        preds = torch.argmax(logits, dim=1).flatten()\n",
        "\n",
        "        # Calculate the accuracy rate\n",
        "        accuracy = (preds == b_labels).cpu().numpy().mean() * 100\n",
        "        val_accuracy.append(accuracy)\n",
        "\n",
        "    # Compute the average accuracy and loss over the validation set.\n",
        "    val_loss = np.mean(val_loss)\n",
        "    val_accuracy = np.mean(val_accuracy)\n",
        "\n",
        "    return val_loss, val_accuracy"
      ],
      "execution_count": null,
      "outputs": []
    },
    {
      "cell_type": "code",
      "metadata": {
        "id": "yW7Ec9t5LZ49"
      },
      "source": [
        "#Prediction \n",
        "import torch.nn.functional as F\n",
        "from sklearn.metrics import accuracy_score, roc_curve, auc\n",
        "\n",
        "def bert_predict(model, test_dataloader):\n",
        "    \"\"\"Perform a forward pass on the trained BERT model to predict probabilities\n",
        "    on the test set.\n",
        "    \"\"\"\n",
        "    # Put the model into the evaluation mode. The dropout layers are disabled during\n",
        "    # the test time.\n",
        "    model.eval()\n",
        "\n",
        "    all_logits,true_labels,predictions = [],[],[]\n",
        "\n",
        "    # For each batch in our test set...\n",
        "    for batch in test_dataloader:\n",
        "        # Load batch to GPU\n",
        "        batch = tuple(t.to(device) for t in batch)\n",
        "        b_input_ids, b_attn_mask, b_labels = batch\n",
        "        #b_input_ids, b_attn_mask = tuple(t.to(device) for t in batch)[:2]\n",
        "\n",
        "        # Compute logits\n",
        "        with torch.no_grad():\n",
        "            logits = model(b_input_ids, b_attn_mask)\n",
        "        all_logits.append(logits)\n",
        "        #pred = all_logits\n",
        "        #move labels to cpu\n",
        "        logits = logits.detach().cpu().numpy()\n",
        "        label_ids = b_labels.to('cpu').numpy()\n",
        "        #pred = pred.detach().cpu().numpy()\n",
        "\n",
        "\n",
        "\n",
        "  \n",
        "    # Store predictions and true labels\n",
        "        predictions.append(logits)\n",
        "        true_labels.append(label_ids)\n",
        "\n",
        "    # Concatenate logits from each batch\n",
        "    all_logits = torch.cat(all_logits, dim=0)\n",
        "\n",
        "    # Apply softmax to calculate probabilities\n",
        "    probs = F.softmax(all_logits, dim=1).cpu().numpy()\n",
        "\n",
        "    return probs,predictions,true_labels\n",
        "\n",
        "\n",
        "def evaluate_roc(probs, y_true, model_name, dataset_name, test_dataset_name):\n",
        "    \"\"\"\n",
        "    - Print AUC and accuracy on the test set\n",
        "    - Plot ROC\n",
        "    @params    probs (np.array): an array of predicted probabilities with shape (len(y_true), 2)\n",
        "    @params    y_true (np.array): an array of the true values with shape (len(y_true),)\n",
        "    \"\"\"\n",
        "    preds = probs[:, 1]\n",
        "    fpr, tpr, threshold = roc_curve(y_true, preds)\n",
        "    roc_auc = auc(fpr, tpr)\n",
        "    print(f'AUC: {roc_auc:.4f}')\n",
        "       \n",
        "    # Get accuracy over the test set\n",
        "    y_pred = np.where(preds >= 0.5, 1, 0)\n",
        "    accuracy = accuracy_score(y_true, y_pred)\n",
        "    print(f'Accuracy: {accuracy*100:.2f}%')\n",
        "    \n",
        "    # Plot ROC AUC\n",
        "    plt.title(f\" ROC of {model_name}  trained on {dataset_name} dataset & evaluated on the {test_dataset_name} dataset \")\n",
        "    plt.plot(fpr, tpr, 'b', label = 'AUC = %0.2f' % roc_auc)\n",
        "    plt.legend(loc = 'lower right')\n",
        "    plt.plot([0, 1], [0, 1],'r--')\n",
        "    plt.xlim([0, 1])\n",
        "    plt.ylim([0, 1])\n",
        "    plt.ylabel('True Positive Rate')\n",
        "    plt.xlabel('False Positive Rate')\n",
        "    plt.show()"
      ],
      "execution_count": null,
      "outputs": []
    },
    {
      "cell_type": "markdown",
      "metadata": {
        "id": "6yAjkbwOFYA8"
      },
      "source": [
        "# Start training BERT"
      ]
    },
    {
      "cell_type": "code",
      "metadata": {
        "colab": {
          "base_uri": "https://localhost:8080/"
        },
        "id": "y6uPg5xNZ1D8",
        "outputId": "bfa76e56-d04e-4266-f09e-9afd166dee11"
      },
      "source": [
        "set_seed(42) \n",
        "bert_classifier, optimizer, scheduler = initialize_model(epochs=3)\n",
        "loss_values = train(bert_classifier, train_dataloader, val_dataloader, epochs=3, evaluation=True)"
      ],
      "execution_count": null,
      "outputs": [
        {
          "output_type": "stream",
          "name": "stderr",
          "text": [
            "Some weights of the model checkpoint at asafaya/bert-mini-arabic were not used when initializing BertModel: ['cls.predictions.bias', 'cls.predictions.transform.dense.weight', 'cls.predictions.transform.LayerNorm.weight', 'cls.predictions.decoder.bias', 'cls.predictions.transform.LayerNorm.bias', 'cls.predictions.transform.dense.bias', 'cls.predictions.decoder.weight']\n",
            "- This IS expected if you are initializing BertModel from the checkpoint of a model trained on another task or with another architecture (e.g. initializing a BertForSequenceClassification model from a BertForPreTraining model).\n",
            "- This IS NOT expected if you are initializing BertModel from the checkpoint of a model that you expect to be exactly identical (initializing a BertForSequenceClassification model from a BertForSequenceClassification model).\n"
          ]
        },
        {
          "output_type": "stream",
          "name": "stdout",
          "text": [
            "Start training...\n",
            "\n",
            " Epoch  |  Batch  |  Train Loss  |  Val Loss  |  Val Acc  |  Elapsed \n",
            "----------------------------------------------------------------------\n",
            "   1    |   20    |   0.701696   |     -      |     -     |   2.68   \n",
            "   1    |   40    |   0.673388   |     -      |     -     |   2.37   \n",
            "   1    |   60    |   0.601482   |     -      |     -     |   2.40   \n",
            "   1    |   80    |   0.622791   |     -      |     -     |   2.38   \n",
            "   1    |   100   |   0.600234   |     -      |     -     |   2.37   \n",
            "   1    |   120   |   0.581507   |     -      |     -     |   2.39   \n",
            "   1    |   140   |   0.596148   |     -      |     -     |   2.37   \n",
            "   1    |   160   |   0.616759   |     -      |     -     |   2.37   \n",
            "   1    |   180   |   0.564759   |     -      |     -     |   2.38   \n",
            "   1    |   200   |   0.543049   |     -      |     -     |   2.38   \n",
            "   1    |   220   |   0.525521   |     -      |     -     |   2.38   \n",
            "   1    |   240   |   0.531174   |     -      |     -     |   2.37   \n",
            "   1    |   260   |   0.558633   |     -      |     -     |   2.39   \n",
            "   1    |   280   |   0.526150   |     -      |     -     |   2.38   \n",
            "   1    |   300   |   0.554374   |     -      |     -     |   2.36   \n",
            "   1    |   320   |   0.541979   |     -      |     -     |   2.38   \n",
            "   1    |   340   |   0.565266   |     -      |     -     |   2.38   \n",
            "   1    |   360   |   0.538544   |     -      |     -     |   2.38   \n",
            "   1    |   380   |   0.532375   |     -      |     -     |   2.37   \n",
            "   1    |   400   |   0.540148   |     -      |     -     |   2.37   \n",
            "   1    |   420   |   0.504950   |     -      |     -     |   2.38   \n",
            "   1    |   440   |   0.505834   |     -      |     -     |   2.37   \n",
            "   1    |   460   |   0.470012   |     -      |     -     |   2.40   \n",
            "   1    |   480   |   0.542525   |     -      |     -     |   2.38   \n",
            "   1    |   500   |   0.538734   |     -      |     -     |   2.40   \n",
            "   1    |   520   |   0.584605   |     -      |     -     |   2.39   \n",
            "   1    |   540   |   0.487927   |     -      |     -     |   2.38   \n",
            "   1    |   560   |   0.537126   |     -      |     -     |   2.38   \n",
            "   1    |   580   |   0.511190   |     -      |     -     |   2.39   \n",
            "   1    |   600   |   0.502985   |     -      |     -     |   2.40   \n",
            "   1    |   620   |   0.498520   |     -      |     -     |   2.39   \n",
            "   1    |   640   |   0.546174   |     -      |     -     |   2.39   \n",
            "   1    |   660   |   0.461400   |     -      |     -     |   2.38   \n",
            "   1    |   680   |   0.473636   |     -      |     -     |   2.39   \n",
            "   1    |   700   |   0.524149   |     -      |     -     |   2.38   \n",
            "   1    |   720   |   0.480607   |     -      |     -     |   2.38   \n",
            "   1    |   740   |   0.552006   |     -      |     -     |   2.38   \n",
            "   1    |   760   |   0.451077   |     -      |     -     |   2.39   \n",
            "   1    |   780   |   0.457613   |     -      |     -     |   2.39   \n",
            "   1    |   800   |   0.459846   |     -      |     -     |   2.40   \n",
            "   1    |   820   |   0.511343   |     -      |     -     |   2.40   \n",
            "   1    |   840   |   0.494357   |     -      |     -     |   2.41   \n",
            "   1    |   860   |   0.449175   |     -      |     -     |   2.38   \n",
            "   1    |   880   |   0.498196   |     -      |     -     |   2.39   \n",
            "   1    |   900   |   0.540906   |     -      |     -     |   2.39   \n",
            "   1    |   920   |   0.448426   |     -      |     -     |   2.40   \n",
            "   1    |   940   |   0.490425   |     -      |     -     |   2.39   \n",
            "   1    |   960   |   0.511549   |     -      |     -     |   2.39   \n",
            "   1    |   980   |   0.488707   |     -      |     -     |   2.39   \n",
            "   1    |  1000   |   0.436697   |     -      |     -     |   2.39   \n",
            "   1    |  1020   |   0.436178   |     -      |     -     |   2.41   \n",
            "   1    |  1040   |   0.425425   |     -      |     -     |   2.37   \n",
            "   1    |  1060   |   0.531745   |     -      |     -     |   2.40   \n",
            "   1    |  1080   |   0.412711   |     -      |     -     |   2.38   \n",
            "   1    |  1100   |   0.487519   |     -      |     -     |   2.39   \n",
            "   1    |  1120   |   0.507084   |     -      |     -     |   2.40   \n",
            "   1    |  1140   |   0.438251   |     -      |     -     |   2.40   \n",
            "   1    |  1160   |   0.437792   |     -      |     -     |   2.39   \n",
            "   1    |  1180   |   0.491313   |     -      |     -     |   2.39   \n",
            "   1    |  1200   |   0.460316   |     -      |     -     |   2.38   \n",
            "   1    |  1220   |   0.539312   |     -      |     -     |   2.39   \n",
            "   1    |  1240   |   0.460560   |     -      |     -     |   2.38   \n",
            "   1    |  1260   |   0.476304   |     -      |     -     |   2.39   \n",
            "   1    |  1280   |   0.426399   |     -      |     -     |   2.39   \n",
            "   1    |  1300   |   0.483944   |     -      |     -     |   2.38   \n",
            "   1    |  1320   |   0.457745   |     -      |     -     |   2.39   \n",
            "   1    |  1340   |   0.473219   |     -      |     -     |   2.37   \n",
            "   1    |  1360   |   0.446102   |     -      |     -     |   2.37   \n",
            "   1    |  1380   |   0.557756   |     -      |     -     |   2.38   \n",
            "   1    |  1400   |   0.430049   |     -      |     -     |   2.40   \n",
            "   1    |  1420   |   0.485755   |     -      |     -     |   2.39   \n",
            "   1    |  1440   |   0.489537   |     -      |     -     |   2.39   \n",
            "   1    |  1460   |   0.444326   |     -      |     -     |   2.39   \n",
            "   1    |  1480   |   0.442970   |     -      |     -     |   2.39   \n",
            "   1    |  1500   |   0.478810   |     -      |     -     |   2.40   \n",
            "   1    |  1520   |   0.440642   |     -      |     -     |   2.41   \n",
            "   1    |  1540   |   0.458565   |     -      |     -     |   2.41   \n",
            "   1    |  1560   |   0.492362   |     -      |     -     |   2.38   \n",
            "   1    |  1580   |   0.473372   |     -      |     -     |   2.39   \n",
            "   1    |  1600   |   0.433833   |     -      |     -     |   2.39   \n",
            "   1    |  1620   |   0.444157   |     -      |     -     |   2.39   \n",
            "   1    |  1640   |   0.523011   |     -      |     -     |   2.39   \n",
            "   1    |  1660   |   0.511261   |     -      |     -     |   2.42   \n",
            "   1    |  1680   |   0.464951   |     -      |     -     |   2.38   \n",
            "   1    |  1700   |   0.442075   |     -      |     -     |   2.40   \n",
            "   1    |  1720   |   0.525686   |     -      |     -     |   2.38   \n",
            "   1    |  1740   |   0.436783   |     -      |     -     |   2.38   \n",
            "   1    |  1760   |   0.493106   |     -      |     -     |   2.38   \n",
            "   1    |  1780   |   0.419623   |     -      |     -     |   2.38   \n",
            "   1    |  1800   |   0.453694   |     -      |     -     |   2.40   \n",
            "   1    |  1820   |   0.413519   |     -      |     -     |   2.38   \n",
            "   1    |  1840   |   0.469960   |     -      |     -     |   2.39   \n",
            "   1    |  1860   |   0.477314   |     -      |     -     |   2.40   \n",
            "   1    |  1880   |   0.480714   |     -      |     -     |   2.39   \n",
            "   1    |  1900   |   0.417859   |     -      |     -     |   2.38   \n",
            "   1    |  1920   |   0.490553   |     -      |     -     |   2.38   \n",
            "   1    |  1940   |   0.421165   |     -      |     -     |   2.39   \n",
            "   1    |  1960   |   0.461886   |     -      |     -     |   2.39   \n",
            "   1    |  1980   |   0.450490   |     -      |     -     |   2.39   \n",
            "   1    |  2000   |   0.467693   |     -      |     -     |   2.39   \n",
            "   1    |  2020   |   0.457319   |     -      |     -     |   2.39   \n",
            "   1    |  2024   |   0.590264   |     -      |     -     |   0.48   \n",
            "----------------------------------------------------------------------\n",
            "   1    |    -    |   0.497506   |  0.425945  |   80.14   |  250.86  \n",
            "----------------------------------------------------------------------\n",
            "\n",
            "\n",
            " Epoch  |  Batch  |  Train Loss  |  Val Loss  |  Val Acc  |  Elapsed \n",
            "----------------------------------------------------------------------\n",
            "   2    |   20    |   0.368499   |     -      |     -     |   2.51   \n",
            "   2    |   40    |   0.353260   |     -      |     -     |   2.40   \n",
            "   2    |   60    |   0.383619   |     -      |     -     |   2.39   \n",
            "   2    |   80    |   0.350604   |     -      |     -     |   2.39   \n",
            "   2    |   100   |   0.406564   |     -      |     -     |   2.39   \n",
            "   2    |   120   |   0.366983   |     -      |     -     |   2.39   \n",
            "   2    |   140   |   0.359313   |     -      |     -     |   2.38   \n",
            "   2    |   160   |   0.372381   |     -      |     -     |   2.39   \n",
            "   2    |   180   |   0.387649   |     -      |     -     |   2.39   \n",
            "   2    |   200   |   0.405777   |     -      |     -     |   2.40   \n",
            "   2    |   220   |   0.352157   |     -      |     -     |   2.39   \n",
            "   2    |   240   |   0.362206   |     -      |     -     |   2.40   \n",
            "   2    |   260   |   0.339909   |     -      |     -     |   2.39   \n",
            "   2    |   280   |   0.315194   |     -      |     -     |   2.40   \n",
            "   2    |   300   |   0.369515   |     -      |     -     |   2.40   \n",
            "   2    |   320   |   0.336908   |     -      |     -     |   2.38   \n",
            "   2    |   340   |   0.411949   |     -      |     -     |   2.38   \n",
            "   2    |   360   |   0.396873   |     -      |     -     |   2.37   \n",
            "   2    |   380   |   0.365085   |     -      |     -     |   2.40   \n",
            "   2    |   400   |   0.330093   |     -      |     -     |   2.39   \n",
            "   2    |   420   |   0.337282   |     -      |     -     |   2.40   \n",
            "   2    |   440   |   0.387613   |     -      |     -     |   2.40   \n",
            "   2    |   460   |   0.383110   |     -      |     -     |   2.38   \n",
            "   2    |   480   |   0.355371   |     -      |     -     |   2.39   \n",
            "   2    |   500   |   0.386825   |     -      |     -     |   2.39   \n",
            "   2    |   520   |   0.379553   |     -      |     -     |   2.39   \n",
            "   2    |   540   |   0.354046   |     -      |     -     |   2.40   \n",
            "   2    |   560   |   0.380985   |     -      |     -     |   2.38   \n",
            "   2    |   580   |   0.345882   |     -      |     -     |   2.39   \n",
            "   2    |   600   |   0.344873   |     -      |     -     |   2.38   \n",
            "   2    |   620   |   0.346424   |     -      |     -     |   2.39   \n",
            "   2    |   640   |   0.351593   |     -      |     -     |   2.39   \n",
            "   2    |   660   |   0.339338   |     -      |     -     |   2.41   \n",
            "   2    |   680   |   0.332755   |     -      |     -     |   2.38   \n",
            "   2    |   700   |   0.375728   |     -      |     -     |   2.39   \n",
            "   2    |   720   |   0.387736   |     -      |     -     |   2.40   \n",
            "   2    |   740   |   0.343769   |     -      |     -     |   2.38   \n",
            "   2    |   760   |   0.356787   |     -      |     -     |   2.38   \n",
            "   2    |   780   |   0.425000   |     -      |     -     |   2.40   \n",
            "   2    |   800   |   0.331168   |     -      |     -     |   2.38   \n",
            "   2    |   820   |   0.428413   |     -      |     -     |   2.37   \n",
            "   2    |   840   |   0.403815   |     -      |     -     |   2.37   \n",
            "   2    |   860   |   0.378943   |     -      |     -     |   2.38   \n",
            "   2    |   880   |   0.367163   |     -      |     -     |   2.38   \n",
            "   2    |   900   |   0.407873   |     -      |     -     |   2.37   \n",
            "   2    |   920   |   0.383084   |     -      |     -     |   2.39   \n",
            "   2    |   940   |   0.333169   |     -      |     -     |   2.37   \n",
            "   2    |   960   |   0.372313   |     -      |     -     |   2.39   \n",
            "   2    |   980   |   0.434934   |     -      |     -     |   2.39   \n",
            "   2    |  1000   |   0.348777   |     -      |     -     |   2.39   \n",
            "   2    |  1020   |   0.307004   |     -      |     -     |   2.37   \n",
            "   2    |  1040   |   0.369652   |     -      |     -     |   2.38   \n",
            "   2    |  1060   |   0.438925   |     -      |     -     |   2.38   \n",
            "   2    |  1080   |   0.425252   |     -      |     -     |   2.38   \n",
            "   2    |  1100   |   0.336873   |     -      |     -     |   2.38   \n",
            "   2    |  1120   |   0.372793   |     -      |     -     |   2.39   \n",
            "   2    |  1140   |   0.359101   |     -      |     -     |   2.38   \n",
            "   2    |  1160   |   0.361627   |     -      |     -     |   2.39   \n",
            "   2    |  1180   |   0.346325   |     -      |     -     |   2.38   \n",
            "   2    |  1200   |   0.425514   |     -      |     -     |   2.39   \n",
            "   2    |  1220   |   0.351372   |     -      |     -     |   2.37   \n",
            "   2    |  1240   |   0.386496   |     -      |     -     |   2.38   \n",
            "   2    |  1260   |   0.398742   |     -      |     -     |   2.36   \n",
            "   2    |  1280   |   0.367918   |     -      |     -     |   2.39   \n",
            "   2    |  1300   |   0.351690   |     -      |     -     |   2.40   \n",
            "   2    |  1320   |   0.334461   |     -      |     -     |   2.39   \n",
            "   2    |  1340   |   0.386133   |     -      |     -     |   2.38   \n",
            "   2    |  1360   |   0.367820   |     -      |     -     |   2.40   \n",
            "   2    |  1380   |   0.332831   |     -      |     -     |   2.38   \n",
            "   2    |  1400   |   0.392702   |     -      |     -     |   2.39   \n",
            "   2    |  1420   |   0.426454   |     -      |     -     |   2.40   \n",
            "   2    |  1440   |   0.404880   |     -      |     -     |   2.38   \n",
            "   2    |  1460   |   0.328554   |     -      |     -     |   2.38   \n",
            "   2    |  1480   |   0.322098   |     -      |     -     |   2.37   \n",
            "   2    |  1500   |   0.319346   |     -      |     -     |   2.37   \n",
            "   2    |  1520   |   0.361810   |     -      |     -     |   2.38   \n",
            "   2    |  1540   |   0.378625   |     -      |     -     |   2.39   \n",
            "   2    |  1560   |   0.373602   |     -      |     -     |   2.39   \n",
            "   2    |  1580   |   0.336838   |     -      |     -     |   2.39   \n",
            "   2    |  1600   |   0.333128   |     -      |     -     |   2.39   \n",
            "   2    |  1620   |   0.320002   |     -      |     -     |   2.39   \n",
            "   2    |  1640   |   0.419157   |     -      |     -     |   2.39   \n",
            "   2    |  1660   |   0.340549   |     -      |     -     |   2.38   \n",
            "   2    |  1680   |   0.401942   |     -      |     -     |   2.38   \n",
            "   2    |  1700   |   0.381949   |     -      |     -     |   2.38   \n",
            "   2    |  1720   |   0.374533   |     -      |     -     |   2.37   \n",
            "   2    |  1740   |   0.402852   |     -      |     -     |   2.38   \n",
            "   2    |  1760   |   0.407310   |     -      |     -     |   2.38   \n",
            "   2    |  1780   |   0.354167   |     -      |     -     |   2.39   \n",
            "   2    |  1800   |   0.384280   |     -      |     -     |   2.38   \n",
            "   2    |  1820   |   0.335844   |     -      |     -     |   2.36   \n",
            "   2    |  1840   |   0.378586   |     -      |     -     |   2.38   \n",
            "   2    |  1860   |   0.387482   |     -      |     -     |   2.40   \n",
            "   2    |  1880   |   0.405305   |     -      |     -     |   2.37   \n",
            "   2    |  1900   |   0.347992   |     -      |     -     |   2.38   \n",
            "   2    |  1920   |   0.275850   |     -      |     -     |   2.37   \n",
            "   2    |  1940   |   0.344100   |     -      |     -     |   2.37   \n",
            "   2    |  1960   |   0.376359   |     -      |     -     |   2.39   \n",
            "   2    |  1980   |   0.309799   |     -      |     -     |   2.40   \n",
            "   2    |  2000   |   0.420336   |     -      |     -     |   2.38   \n",
            "   2    |  2020   |   0.394734   |     -      |     -     |   2.38   \n",
            "   2    |  2024   |   0.385200   |     -      |     -     |   0.48   \n",
            "----------------------------------------------------------------------\n",
            "   2    |    -    |   0.368356   |  0.440360  |   81.78   |  250.49  \n",
            "----------------------------------------------------------------------\n",
            "\n",
            "\n",
            " Epoch  |  Batch  |  Train Loss  |  Val Loss  |  Val Acc  |  Elapsed \n",
            "----------------------------------------------------------------------\n",
            "   3    |   20    |   0.296271   |     -      |     -     |   2.53   \n",
            "   3    |   40    |   0.346447   |     -      |     -     |   2.39   \n",
            "   3    |   60    |   0.317059   |     -      |     -     |   2.39   \n",
            "   3    |   80    |   0.323127   |     -      |     -     |   2.38   \n",
            "   3    |   100   |   0.304500   |     -      |     -     |   2.39   \n",
            "   3    |   120   |   0.305225   |     -      |     -     |   2.39   \n",
            "   3    |   140   |   0.371995   |     -      |     -     |   2.39   \n",
            "   3    |   160   |   0.341114   |     -      |     -     |   2.40   \n",
            "   3    |   180   |   0.348528   |     -      |     -     |   2.38   \n",
            "   3    |   200   |   0.236701   |     -      |     -     |   2.38   \n",
            "   3    |   220   |   0.282988   |     -      |     -     |   2.40   \n",
            "   3    |   240   |   0.361299   |     -      |     -     |   2.38   \n",
            "   3    |   260   |   0.272504   |     -      |     -     |   2.38   \n",
            "   3    |   280   |   0.339580   |     -      |     -     |   2.39   \n",
            "   3    |   300   |   0.196660   |     -      |     -     |   2.38   \n",
            "   3    |   320   |   0.267455   |     -      |     -     |   2.38   \n",
            "   3    |   340   |   0.353924   |     -      |     -     |   2.38   \n",
            "   3    |   360   |   0.343656   |     -      |     -     |   2.37   \n",
            "   3    |   380   |   0.290792   |     -      |     -     |   2.38   \n",
            "   3    |   400   |   0.325422   |     -      |     -     |   2.39   \n",
            "   3    |   420   |   0.306874   |     -      |     -     |   2.37   \n",
            "   3    |   440   |   0.258745   |     -      |     -     |   2.39   \n",
            "   3    |   460   |   0.311093   |     -      |     -     |   2.38   \n",
            "   3    |   480   |   0.278954   |     -      |     -     |   2.38   \n",
            "   3    |   500   |   0.301513   |     -      |     -     |   2.38   \n",
            "   3    |   520   |   0.322558   |     -      |     -     |   2.38   \n",
            "   3    |   540   |   0.299883   |     -      |     -     |   2.38   \n",
            "   3    |   560   |   0.307931   |     -      |     -     |   2.38   \n",
            "   3    |   580   |   0.293760   |     -      |     -     |   2.38   \n",
            "   3    |   600   |   0.295279   |     -      |     -     |   2.38   \n",
            "   3    |   620   |   0.301181   |     -      |     -     |   2.38   \n",
            "   3    |   640   |   0.293982   |     -      |     -     |   2.39   \n",
            "   3    |   660   |   0.233934   |     -      |     -     |   2.39   \n",
            "   3    |   680   |   0.265449   |     -      |     -     |   2.40   \n",
            "   3    |   700   |   0.346270   |     -      |     -     |   2.40   \n",
            "   3    |   720   |   0.303616   |     -      |     -     |   2.37   \n",
            "   3    |   740   |   0.338533   |     -      |     -     |   2.39   \n",
            "   3    |   760   |   0.345151   |     -      |     -     |   2.38   \n",
            "   3    |   780   |   0.328989   |     -      |     -     |   2.38   \n",
            "   3    |   800   |   0.241824   |     -      |     -     |   2.38   \n",
            "   3    |   820   |   0.270730   |     -      |     -     |   2.38   \n",
            "   3    |   840   |   0.306683   |     -      |     -     |   2.41   \n",
            "   3    |   860   |   0.275335   |     -      |     -     |   2.38   \n",
            "   3    |   880   |   0.344648   |     -      |     -     |   2.38   \n",
            "   3    |   900   |   0.307117   |     -      |     -     |   2.37   \n",
            "   3    |   920   |   0.247400   |     -      |     -     |   2.39   \n",
            "   3    |   940   |   0.292424   |     -      |     -     |   2.38   \n",
            "   3    |   960   |   0.277375   |     -      |     -     |   2.38   \n",
            "   3    |   980   |   0.330617   |     -      |     -     |   2.38   \n",
            "   3    |  1000   |   0.301401   |     -      |     -     |   2.39   \n",
            "   3    |  1020   |   0.265771   |     -      |     -     |   2.38   \n",
            "   3    |  1040   |   0.300342   |     -      |     -     |   2.39   \n",
            "   3    |  1060   |   0.284882   |     -      |     -     |   2.37   \n",
            "   3    |  1080   |   0.328425   |     -      |     -     |   2.39   \n",
            "   3    |  1100   |   0.326695   |     -      |     -     |   2.38   \n",
            "   3    |  1120   |   0.302016   |     -      |     -     |   2.39   \n",
            "   3    |  1140   |   0.296746   |     -      |     -     |   2.38   \n",
            "   3    |  1160   |   0.280975   |     -      |     -     |   2.38   \n",
            "   3    |  1180   |   0.352218   |     -      |     -     |   2.37   \n",
            "   3    |  1200   |   0.360039   |     -      |     -     |   2.40   \n",
            "   3    |  1220   |   0.301636   |     -      |     -     |   2.37   \n",
            "   3    |  1240   |   0.231328   |     -      |     -     |   2.38   \n",
            "   3    |  1260   |   0.411699   |     -      |     -     |   2.38   \n",
            "   3    |  1280   |   0.285433   |     -      |     -     |   2.39   \n",
            "   3    |  1300   |   0.239637   |     -      |     -     |   2.39   \n",
            "   3    |  1320   |   0.245391   |     -      |     -     |   2.41   \n",
            "   3    |  1340   |   0.289694   |     -      |     -     |   2.39   \n",
            "   3    |  1360   |   0.341855   |     -      |     -     |   2.38   \n",
            "   3    |  1380   |   0.283278   |     -      |     -     |   2.40   \n",
            "   3    |  1400   |   0.267234   |     -      |     -     |   2.38   \n",
            "   3    |  1420   |   0.285420   |     -      |     -     |   2.40   \n",
            "   3    |  1440   |   0.292387   |     -      |     -     |   2.39   \n",
            "   3    |  1460   |   0.366395   |     -      |     -     |   2.39   \n",
            "   3    |  1480   |   0.315948   |     -      |     -     |   2.39   \n",
            "   3    |  1500   |   0.347567   |     -      |     -     |   2.38   \n",
            "   3    |  1520   |   0.209982   |     -      |     -     |   2.38   \n",
            "   3    |  1540   |   0.303810   |     -      |     -     |   2.37   \n",
            "   3    |  1560   |   0.317557   |     -      |     -     |   2.37   \n",
            "   3    |  1580   |   0.251055   |     -      |     -     |   2.40   \n",
            "   3    |  1600   |   0.329377   |     -      |     -     |   2.38   \n",
            "   3    |  1620   |   0.202918   |     -      |     -     |   2.37   \n",
            "   3    |  1640   |   0.272944   |     -      |     -     |   2.39   \n",
            "   3    |  1660   |   0.272138   |     -      |     -     |   2.39   \n",
            "   3    |  1680   |   0.299237   |     -      |     -     |   2.38   \n",
            "   3    |  1700   |   0.286436   |     -      |     -     |   2.42   \n",
            "   3    |  1720   |   0.315224   |     -      |     -     |   2.38   \n",
            "   3    |  1740   |   0.346543   |     -      |     -     |   2.38   \n",
            "   3    |  1760   |   0.297869   |     -      |     -     |   2.39   \n",
            "   3    |  1780   |   0.320219   |     -      |     -     |   2.40   \n",
            "   3    |  1800   |   0.325302   |     -      |     -     |   2.38   \n",
            "   3    |  1820   |   0.316521   |     -      |     -     |   2.39   \n",
            "   3    |  1840   |   0.256338   |     -      |     -     |   2.41   \n",
            "   3    |  1860   |   0.304082   |     -      |     -     |   2.38   \n",
            "   3    |  1880   |   0.301194   |     -      |     -     |   2.40   \n",
            "   3    |  1900   |   0.275651   |     -      |     -     |   2.38   \n",
            "   3    |  1920   |   0.407234   |     -      |     -     |   2.38   \n",
            "   3    |  1940   |   0.301293   |     -      |     -     |   2.38   \n",
            "   3    |  1960   |   0.256527   |     -      |     -     |   2.39   \n",
            "   3    |  1980   |   0.338783   |     -      |     -     |   2.39   \n",
            "   3    |  2000   |   0.330329   |     -      |     -     |   2.38   \n",
            "   3    |  2020   |   0.342559   |     -      |     -     |   2.37   \n",
            "   3    |  2024   |   0.243511   |     -      |     -     |   0.48   \n",
            "----------------------------------------------------------------------\n",
            "   3    |    -    |   0.302243   |  0.462936  |   82.19   |  250.52  \n",
            "----------------------------------------------------------------------\n",
            "\n",
            "\n",
            "Training complete!\n"
          ]
        }
      ]
    },
    {
      "cell_type": "code",
      "metadata": {
        "id": "m0adIb5Xb7Ro"
      },
      "source": [
        "# Saving the model for future runs\n",
        "\n",
        "import pickle\n",
        "filename = 'trained_model_40k_3_epochs.sav'\n",
        "pickle.dump(bert_classifier, open(filename, 'wb'))"
      ],
      "execution_count": null,
      "outputs": []
    },
    {
      "cell_type": "code",
      "metadata": {
        "id": "JNZiph4DcB1B"
      },
      "source": [
        "# # Loading the model (to avoid retraining in reruns)\n",
        "\n",
        "# import pickle\n",
        "# filename = 'trained_model_mini_with_emojis.sav'\n",
        "# f = open(filename, 'rb')\n",
        "# bert_classifier = pickle.load(f)"
      ],
      "execution_count": null,
      "outputs": []
    },
    {
      "cell_type": "markdown",
      "metadata": {
        "id": "3-P9CWedJUM0"
      },
      "source": [
        "# Test BERT"
      ]
    },
    {
      "cell_type": "code",
      "metadata": {
        "colab": {
          "base_uri": "https://localhost:8080/",
          "height": 330
        },
        "id": "KXNTZUbmcXPH",
        "outputId": "1d3b8db2-973c-455c-f654-45cb414c73bd"
      },
      "source": [
        "\n",
        "#Predict and evaluate validation subset\n",
        "# Compute predicted probabilities on the validation set\n",
        "probs,_,_ = bert_predict(bert_classifier, val_dataloader)\n",
        "\n",
        "# Evaluate the Bert classifier\n",
        "evaluate_roc(probs, y_val, \"BERT-mini\", \"arabic-sentiment-twitter-corpus\", \"arabic-sentiment-twitter-corpus validation\")"
      ],
      "execution_count": null,
      "outputs": [
        {
          "output_type": "stream",
          "name": "stdout",
          "text": [
            "AUC: 0.9011\n",
            "Accuracy: 82.19%\n"
          ]
        },
        {
          "output_type": "display_data",
          "data": {
            "image/png": "[encoded data removed]",
            "text/plain": [
              "<Figure size 432x288 with 1 Axes>"
            ]
          },
          "metadata": {
            "needs_background": "light"
          }
        }
      ]
    },
    {
      "cell_type": "code",
      "metadata": {
        "colab": {
          "base_uri": "https://localhost:8080/"
        },
        "id": "J5uJ4z14cgAi",
        "outputId": "b9000aa2-de45-4117-8177-ae3c5236300a"
      },
      "source": [
        "#Predict and evaluate test subset\n",
        "# Run `preprocessing_for_bert` on the test set\n",
        "print('Tokenizing data...')\n",
        "test_inputs, test_masks, test_labels = preprocessing_for_bert(X_test,y_test)\n",
        "# Create the DataLoader for our test set\n",
        "test_dataset = TensorDataset(test_inputs, test_masks,test_labels)\n",
        "test_sampler = SequentialSampler(test_dataset)\n",
        "test_dataloader = DataLoader(test_dataset, sampler=test_sampler, batch_size=BATCH_SIZE)\n",
        "\n",
        "probs, predictions,true_labels = bert_predict(bert_classifier, test_dataloader)\n"
      ],
      "execution_count": null,
      "outputs": [
        {
          "output_type": "stream",
          "name": "stdout",
          "text": [
            "Tokenizing data...\n"
          ]
        }
      ]
    },
    {
      "cell_type": "code",
      "metadata": {
        "colab": {
          "base_uri": "https://localhost:8080/"
        },
        "id": "VHNznWl5cjdt",
        "outputId": "3994c618-3600-4f68-b96f-288f9e05222c"
      },
      "source": [
        "# Compute predicted probabilities on the test set\n",
        "#probs, predictions,true_labels = bert_predict(bert_classifier, test_dataloader)\n",
        "\n",
        "#print(type(predictions[0]))\n",
        "#print(type(true_labels[0]))\n",
        "\n",
        "# Get predictions from the probabilities\n",
        "threshold = 0.5\n",
        "preds = np.where(probs[:, 1] > threshold, 1, 0)\n",
        "\n",
        "# Number of tweets predicted non-negative\n",
        "print(\"no-negative tweets ratio \", preds.sum()/len(preds))\n"
      ],
      "execution_count": null,
      "outputs": [
        {
          "output_type": "stream",
          "name": "stdout",
          "text": [
            "no-negative tweets ratio  0.483\n"
          ]
        }
      ]
    },
    {
      "cell_type": "code",
      "metadata": {
        "colab": {
          "base_uri": "https://localhost:8080/"
        },
        "id": "opvnDtTksWUn",
        "outputId": "afd88b6d-a8c9-4355-e133-471991a82c35"
      },
      "source": [
        "from sklearn.metrics import matthews_corrcoef\n",
        "\n",
        "matthews_set = []\n",
        "\n",
        "# Evaluate each test batch using Matthew's correlation coefficient\n",
        "print('Calculating Matthews Corr. Coef. for each batch...')\n",
        "\n",
        "# For each input batch...\n",
        "for i in range(len(true_labels)):\n",
        "  \n",
        "  # The predictions for this batch are a 2-column ndarray (one column for \"0\" \n",
        "  # and one column for \"1\"). Pick the label with the highest value and turn this\n",
        "  # in to a list of 0s and 1s.np.argmax(predictions[i], axis=1).flatten()\n",
        "  pred_labels_i = np.argmax(predictions[i], axis=1).flatten()\n",
        "  \n",
        "  # Calculate and store the coef for this batch.  \n",
        "  matthews = matthews_corrcoef(true_labels[i], pred_labels_i)                \n",
        "  matthews_set.append(matthews)\n",
        "\n",
        "\n",
        "  # Combine the predictions for each batch into a single list of 0s and 1s.\n",
        "flat_predictions = [item for sublist in predictions for item in sublist]\n",
        "flat_predictions = np.argmax(flat_predictions, axis=1).flatten()\n",
        "\n",
        "# Combine the correct labels for each batch into a single list.\n",
        "flat_true_labels = [item for sublist in true_labels for item in sublist]\n",
        "\n",
        "# Calculate the MCC\n",
        "mcc = matthews_corrcoef(flat_true_labels, flat_predictions)\n",
        "\n",
        "print('MCC: %.3f' % mcc)"
      ],
      "execution_count": null,
      "outputs": [
        {
          "output_type": "stream",
          "name": "stdout",
          "text": [
            "Calculating Matthews Corr. Coef. for each batch...\n",
            "MCC: 0.659\n"
          ]
        }
      ]
    },
    {
      "cell_type": "code",
      "metadata": {
        "colab": {
          "base_uri": "https://localhost:8080/"
        },
        "id": "X_SKHJlBA_BW",
        "outputId": "af852ff3-8d2a-4bcf-b73a-e3b2f25724dc"
      },
      "source": [
        "from sklearn.metrics import classification_report\n",
        "from sklearn.metrics import confusion_matrix\n",
        "print(classification_report(flat_true_labels, flat_predictions))\n",
        "print(confusion_matrix(flat_true_labels, flat_predictions))"
      ],
      "execution_count": null,
      "outputs": [
        {
          "output_type": "stream",
          "name": "stdout",
          "text": [
            "              precision    recall  f1-score   support\n",
            "\n",
            "           0       0.80      0.86      0.83      1946\n",
            "           1       0.85      0.80      0.83      2054\n",
            "\n",
            "    accuracy                           0.83      4000\n",
            "   macro avg       0.83      0.83      0.83      4000\n",
            "weighted avg       0.83      0.83      0.83      4000\n",
            "\n",
            "[[1664  282]\n",
            " [ 404 1650]]\n"
          ]
        }
      ]
    },
    {
      "cell_type": "code",
      "metadata": {
        "colab": {
          "base_uri": "https://localhost:8080/",
          "height": 330
        },
        "id": "CDgkBBImcmPO",
        "outputId": "01b082d0-9bd0-4127-ed24-f241a26990c5"
      },
      "source": [
        "# Evaluate the Bert classifier for unseen test data\n",
        "evaluate_roc(probs, y_test,\"BERT-mini\", \"arabic-sentiment-twitter-corpus\",\"arabic-sentiment-twitter-corpus test\")"
      ],
      "execution_count": null,
      "outputs": [
        {
          "output_type": "stream",
          "name": "stdout",
          "text": [
            "AUC: 0.9011\n",
            "Accuracy: 82.85%\n"
          ]
        },
        {
          "output_type": "display_data",
          "data": {
            "image/png": "[encoded data removed]",
            "text/plain": [
              "<Figure size 432x288 with 1 Axes>"
            ]
          },
          "metadata": {
            "needs_background": "light"
          }
        }
      ]
    },
    {
      "cell_type": "code",
      "metadata": {
        "colab": {
          "base_uri": "https://localhost:8080/",
          "height": 427
        },
        "id": "jheNLANjjS5P",
        "outputId": "e10a5b3d-370a-4b8b-e505-deda253418de"
      },
      "source": [
        "import matplotlib.pyplot as plt\n",
        "% matplotlib inline\n",
        "\n",
        "import seaborn as sns\n",
        "\n",
        "# Use plot styling from seaborn.\n",
        "sns.set(style='darkgrid')\n",
        "\n",
        "# Increase the plot size and font size.\n",
        "sns.set(font_scale=1.5)\n",
        "plt.rcParams[\"figure.figsize\"] = (12,6)\n",
        "\n",
        "# Plot the learning curve.\n",
        "plt.plot(loss_values, 'b-o')\n",
        "\n",
        "# Label the plot.\n",
        "plt.title(\"Training loss\")\n",
        "plt.xlabel(\"Epoch\")\n",
        "plt.ylabel(\"Loss\")\n",
        "\n",
        "plt.show()"
      ],
      "execution_count": null,
      "outputs": [
        {
          "output_type": "display_data",
          "data": {
            "image/png": "[encoded data removed]",
            "text/plain": [
              "<Figure size 864x432 with 1 Axes>"
            ]
          },
          "metadata": {}
        }
      ]
    }
  ]
}