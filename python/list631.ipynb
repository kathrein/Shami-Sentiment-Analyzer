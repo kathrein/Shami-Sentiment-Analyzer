{
 "cells": [
  {
   "cell_type": "markdown",
   "metadata": {},
   "source": [
    "using RNN, LSTM, GRU , BI \n"
   ]
  },
  {
   "cell_type": "code",
   "execution_count": 2,
   "metadata": {},
   "outputs": [
    {
     "name": "stderr",
     "output_type": "stream",
     "text": [
      "/Users/xabuka/anaconda3/lib/python3.6/site-packages/h5py/__init__.py:36: FutureWarning: Conversion of the second argument of issubdtype from `float` to `np.floating` is deprecated. In future, it will be treated as `np.float64 == np.dtype(float).type`.\n",
      "  from ._conv import register_converters as _register_converters\n",
      "Using TensorFlow backend.\n"
     ]
    }
   ],
   "source": [
    "import loading\n",
    "from keras.models import Sequential\n",
    "from keras.layers import Dense, Embedding,GRU,LSTM\n",
    "from keras.callbacks import EarlyStopping\n",
    "from keras.utils import to_categorical\n",
    "import matplotlib.pyplot as plt\n",
    "from sklearn import metrics\n",
    "import numpy as np\n",
    "from numpy import array\n"
   ]
  },
  {
   "cell_type": "code",
   "execution_count": 3,
   "metadata": {},
   "outputs": [],
   "source": [
    "max_features = 10000\n",
    "max_len = 100\n",
    "training_samples = 11759  # We will be training on 200 samples\n",
    "validation_samples = 2000  # We will be validating on 10000 samples\n",
    "\n",
    "#keras model\n",
    "epochs = 100\n",
    "batch_size=128\n",
    "\n",
    "#data directory\n",
    "data_dir = '../data/SplitedPalSent'#labr5\n",
    "saved_model = 'pre_trained_aravec_model.h5'"
   ]
  },
  {
   "cell_type": "code",
   "execution_count": 4,
   "metadata": {},
   "outputs": [
    {
     "name": "stdout",
     "output_type": "stream",
     "text": [
      "Found 4276 unique tokens.\n",
      "Shape of data tensor: (929, 100)\n",
      "Shape of label tensor: (929,)\n",
      "input_train shape: (929, 100)\n",
      "input_test shape: (259, 100)\n"
     ]
    }
   ],
   "source": [
    "input_train, y_train = loading.load_train(data_dir,max_len,training_samples,validation_samples,max_features, Validation = False )\n",
    "input_test, y_test = loading.load_test(data_dir,max_len,max_features)\n",
    "\n",
    "print('input_train shape:', input_train.shape)\n",
    "print('input_test shape:', input_test.shape)"
   ]
  },
  {
   "cell_type": "code",
   "execution_count": 5,
   "metadata": {},
   "outputs": [
    {
     "name": "stdout",
     "output_type": "stream",
     "text": [
      "_________________________________________________________________\n",
      "Layer (type)                 Output Shape              Param #   \n",
      "=================================================================\n",
      "embedding_1 (Embedding)      (None, 100, 64)           640000    \n",
      "_________________________________________________________________\n",
      "lstm_1 (LSTM)                (None, 32)                12416     \n",
      "_________________________________________________________________\n",
      "dense_1 (Dense)              (None, 3)                 99        \n",
      "=================================================================\n",
      "Total params: 652,515\n",
      "Trainable params: 652,515\n",
      "Non-trainable params: 0\n",
      "_________________________________________________________________\n"
     ]
    }
   ],
   "source": [
    "model = Sequential()\n",
    "model.add(Embedding(max_features, 64, input_length= max_len))\n",
    "model.add(LSTM(32)) #GRU\n",
    "#bidirectional \n",
    "#model.add(layers.Bidirectional(layers.LSTM(32)))\n",
    "#model.add(layers.Bidirectional(\n",
    "#    layers.GRU(32), input_shape=(None, float_data.shape[-1])))\n",
    "#model.add(Dense(32, activation='relu'))\n",
    "model.add(Dense(3, activation='sigmoid'))\n",
    "model.summary()"
   ]
  },
  {
   "cell_type": "code",
   "execution_count": 6,
   "metadata": {},
   "outputs": [],
   "source": [
    "#model.compile(optimizer='rmsprop', loss='binary_crossentropy', metrics=['acc'])\n",
    "model.compile(optimizer='adam',\n",
    "              loss='categorical_crossentropy',\n",
    "              metrics=['acc'])\n"
   ]
  },
  {
   "cell_type": "code",
   "execution_count": 7,
   "metadata": {},
   "outputs": [
    {
     "name": "stdout",
     "output_type": "stream",
     "text": [
      "Train on 743 samples, validate on 186 samples\n",
      "Epoch 1/1\n",
      "743/743 [==============================] - 2s 2ms/step - loss: 1.0937 - acc: 0.4495 - val_loss: 1.0880 - val_acc: 0.4516\n"
     ]
    }
   ],
   "source": [
    "early_stopping = EarlyStopping(monitor='val_loss', patience=2)\n",
    "\n",
    "history = model.fit(input_train, y_train,\n",
    "                    epochs=epochs,\n",
    "                    batch_size=batch_size,\n",
    "                    #validation_data=(x_val, y_val),callbacks=[early_stopping])\n",
    "                    validation_split=0.2)\n",
    "\n"
   ]
  },
  {
   "cell_type": "markdown",
   "metadata": {},
   "source": [
    "Plot"
   ]
  },
  {
   "cell_type": "code",
   "execution_count": 8,
   "metadata": {},
   "outputs": [
    {
     "data": {
      "image/png": "[encoded data removed]",
      "text/plain": [
       "<Figure size 432x288 with 1 Axes>"
      ]
     },
     "metadata": {},
     "output_type": "display_data"
    },
    {
     "data": {
      "image/png": "[encoded data removed]",
      "text/plain": [
       "<Figure size 432x288 with 1 Axes>"
      ]
     },
     "metadata": {},
     "output_type": "display_data"
    }
   ],
   "source": [
    "acc = history.history['acc']\n",
    "val_acc = history.history['val_acc']\n",
    "loss = history.history['loss']\n",
    "val_loss = history.history['val_loss']\n",
    "epochs = range(1, len(acc) + 1)\n",
    "plt.plot(epochs, acc, 'bo', label='Training acc')\n",
    "plt.plot(epochs, val_acc, 'b', label='Validation acc')\n",
    "plt.title('Training and validation accuracy')\n",
    "plt.legend()\n",
    "plt.figure()\n",
    "plt.plot(epochs, loss, 'bo', label='Training loss')\n",
    "plt.plot(epochs, val_loss, 'b', label='Validation loss')\n",
    "plt.title('Training and validation loss')\n",
    "plt.legend()\n",
    "plt.show()"
   ]
  },
  {
   "cell_type": "markdown",
   "metadata": {},
   "source": [
    "Evaluation"
   ]
  },
  {
   "cell_type": "code",
   "execution_count": 11,
   "metadata": {},
   "outputs": [
    {
     "name": "stdout",
     "output_type": "stream",
     "text": [
      "Accuracy: 32.82%\n",
      "              precision    recall  f1-score   support\n",
      "\n",
      "           0       0.33      1.00      0.49        85\n",
      "           1       0.58      1.00      0.73       150\n",
      "           2       0.00      0.00      0.00        24\n",
      "\n",
      "   micro avg       0.45      0.91      0.60       259\n",
      "   macro avg       0.30      0.67      0.41       259\n",
      "weighted avg       0.44      0.91      0.59       259\n",
      " samples avg       0.45      0.91      0.60       259\n",
      "\n",
      "[[ 85   0   0]\n",
      " [150   0   0]\n",
      " [ 24   0   0]]\n"
     ]
    },
    {
     "name": "stderr",
     "output_type": "stream",
     "text": [
      "/Users/xabuka/anaconda3/lib/python3.6/site-packages/sklearn/metrics/classification.py:1143: UndefinedMetricWarning: Precision and F-score are ill-defined and being set to 0.0 in labels with no predicted samples.\n",
      "  'precision', 'predicted', average, warn_for)\n"
     ]
    }
   ],
   "source": [
    "scores= model.evaluate(input_test, y_test,verbose=0)\n",
    "print(\"Accuracy: %.2f%%\" % (scores[1]*100))\n",
    "\n",
    "#yhat = model.predict_classes(input_test, verbose = 2, batch_size = batch_size)\n",
    "yhat = model.predict(input_test, verbose = 2, batch_size = batch_size)\n",
    "\n",
    "#yhat = array(loading.one_encode_pred(yhat))\n",
    "#n_values = 3 \n",
    "#c = np.eye(n_values, dtype=int)[np.argmax(yhat, axis=1)]\n",
    "#yhat = to_categorical(yhat, num_classes=3)\n",
    "#print(yhat)\n",
    "\n",
    "print(metrics.classification_report(y_test[:,:], np.round(yhat[:,:])))\n",
    "#print(np.round(yhat[:,:]))\n",
    "#for x,y in zip(y_test[:,:],yhat[:,:]):\n",
    "#    print(x,y)\n",
    "\n",
    "conf_mat = metrics.confusion_matrix(y_test.argmax(axis=1), yhat.argmax(axis=1))\n",
    "print(conf_mat)\n"
   ]
  }
 ],
 "metadata": {
  "kernelspec": {
   "display_name": "Python 3",
   "language": "python",
   "name": "python3"
  },
  "language_info": {
   "codemirror_mode": {
    "name": "ipython",
    "version": 3
   },
   "file_extension": ".py",
   "mimetype": "text/x-python",
   "name": "python",
   "nbconvert_exporter": "python",
   "pygments_lexer": "ipython3",
   "version": "3.6.5"
  }
 },
 "nbformat": 4,
 "nbformat_minor": 2
}
