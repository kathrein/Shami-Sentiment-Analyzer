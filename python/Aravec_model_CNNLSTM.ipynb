{
 "cells": [
  {
   "cell_type": "code",
   "execution_count": 1,
   "metadata": {},
   "outputs": [
    {
     "name": "stderr",
     "output_type": "stream",
     "text": [
      "/Users/xabuka/anaconda3/lib/python3.6/site-packages/h5py/__init__.py:36: FutureWarning: Conversion of the second argument of issubdtype from `float` to `np.floating` is deprecated. In future, it will be treated as `np.float64 == np.dtype(float).type`.\n",
      "  from ._conv import register_converters as _register_converters\n",
      "Using TensorFlow backend.\n"
     ]
    }
   ],
   "source": [
    "import loading\n",
    "import process_aravec\n",
    "from gensim.models import Word2Vec\n",
    "import os\n",
    "import numpy as np\n",
    "from keras.preprocessing.text import Tokenizer\n",
    "from keras.models import Sequential\n",
    "from keras import layers\n",
    "from keras.optimizers import RMSprop\n",
    "from keras.layers import Embedding, Conv1D,MaxPooling1D, Dense,Dropout,LSTM\n",
    "from keras.callbacks import EarlyStopping\n",
    "from sklearn import metrics\n",
    "import matplotlib.pyplot as plt\n",
    "import seaborn as sns             \n",
    "\n"
   ]
  },
  {
   "cell_type": "code",
   "execution_count": 17,
   "metadata": {},
   "outputs": [],
   "source": [
    "max_features = 10000\n",
    "max_len = 100\n",
    "training_samples = 11759  # We will be training on 200 samples\n",
    "validation_samples = 2000  # We will be validating on 10000 samples\n",
    "# Convolution\n",
    "kernel_size = 5\n",
    "filters = 64\n",
    "pool_size = 2\n",
    "\n",
    "# LSTM\n",
    "lstm_output_size = 70\n",
    "#keras model\n",
    "epochs = 100\n",
    "batch_size=128\n",
    "\n",
    "#data directory\n",
    "data_dir = '../data/SplitedPalSent'#SplitedPalSent'\n",
    "saved_model = 'pre_trained_aravec_model.h5'\n"
   ]
  },
  {
   "cell_type": "code",
   "execution_count": 4,
   "metadata": {},
   "outputs": [
    {
     "name": "stdout",
     "output_type": "stream",
     "text": [
      "Found 4276 unique tokens.\n",
      "Shape of data tensor: (929, 100)\n",
      "Shape of label tensor: (929,)\n"
     ]
    }
   ],
   "source": [
    "input_train, y_train = loading.load_train(data_dir,max_len,training_samples,validation_samples,max_features, Validation = False )\n",
    "input_test, y_test = loading.load_test(data_dir,max_len,max_features)"
   ]
  },
  {
   "cell_type": "code",
   "execution_count": 10,
   "metadata": {},
   "outputs": [],
   "source": [
    "def embedding_matrix(data_dir,max_len,max_features):\n",
    "    ara_dir = '../data/tweet_cbow_300/'\n",
    "    word_index = loading.word_index(data_dir,max_len,max_features)\n",
    "    t_model = Word2Vec.load(os.path.join(ara_dir,'tweets_cbow_300'))\n",
    "\n",
    "    print('Found %s word vectors.' % len(t_model.wv.index2word))# how many words in aravec this model\n",
    "    embeddings_index = t_model.wv\n",
    "\n",
    "    embedding_dim = embeddings_index.vector_size #300\n",
    "    embedding_matrix = np.zeros((max_features, embedding_dim))\n",
    "\n",
    "    for word, i in word_index.items():\n",
    "        word = process_aravec.clean_str(word).replace(\" \", \"_\")\n",
    "        if word in embeddings_index:\n",
    "            embedding_vector = embeddings_index[word]\n",
    "            if i < max_features:\n",
    "                if embedding_vector is not None:\n",
    "                    # Words not found in embedding index will be all-zeros.\n",
    "                    embedding_matrix[i] = embedding_vector\n",
    "                    #print(len(embedding_vector))\n",
    "    return  embedding_matrix    "
   ]
  },
  {
   "cell_type": "code",
   "execution_count": 11,
   "metadata": {},
   "outputs": [
    {
     "name": "stdout",
     "output_type": "stream",
     "text": [
      "Found 331679 word vectors.\n"
     ]
    }
   ],
   "source": [
    "embedding_matrix = embedding_matrix(data_dir,max_len,max_features)"
   ]
  },
  {
   "cell_type": "code",
   "execution_count": 12,
   "metadata": {},
   "outputs": [
    {
     "name": "stdout",
     "output_type": "stream",
     "text": [
      "_________________________________________________________________\n",
      "Layer (type)                 Output Shape              Param #   \n",
      "=================================================================\n",
      "embedding_1 (Embedding)      (None, 100, 300)          3000000   \n",
      "_________________________________________________________________\n",
      "dropout_1 (Dropout)          (None, 100, 300)          0         \n",
      "_________________________________________________________________\n",
      "conv1d_1 (Conv1D)            (None, 96, 64)            96064     \n",
      "_________________________________________________________________\n",
      "max_pooling1d_1 (MaxPooling1 (None, 48, 64)            0         \n",
      "_________________________________________________________________\n",
      "lstm_1 (LSTM)                (None, 70)                37800     \n",
      "_________________________________________________________________\n",
      "dense_1 (Dense)              (None, 3)                 213       \n",
      "=================================================================\n",
      "Total params: 3,134,077\n",
      "Trainable params: 134,077\n",
      "Non-trainable params: 3,000,000\n",
      "_________________________________________________________________\n",
      "None\n"
     ]
    }
   ],
   "source": [
    "#building model CNN + LSTM\n",
    "model = Sequential()\n",
    "model.add(Embedding(max_features, 300,weights=[embedding_matrix], trainable=False, input_length=max_len))\n",
    "model.add(Dropout(0.25))\n",
    "model.add(Conv1D(filters, kernel_size, padding='valid', activation='relu', strides=1))\n",
    "model.add(MaxPooling1D(pool_size=pool_size))\n",
    "model.add(LSTM(lstm_output_size))\n",
    "model.add(Dense(3,activation='sigmoid'))\n",
    "print(model.summary())   "
   ]
  },
  {
   "cell_type": "code",
   "execution_count": null,
   "metadata": {},
   "outputs": [
    {
     "name": "stdout",
     "output_type": "stream",
     "text": [
      "Train on 836 samples, validate on 93 samples\n",
      "Epoch 1/100\n",
      "836/836 [==============================] - 2s 3ms/step - loss: 0.7984 - acc: 0.6328 - val_loss: 0.8943 - val_acc: 0.6237\n",
      "Epoch 2/100\n",
      "836/836 [==============================] - 2s 2ms/step - loss: 0.7047 - acc: 0.6639 - val_loss: 0.9493 - val_acc: 0.5806\n",
      "Epoch 3/100\n",
      "836/836 [==============================] - 2s 2ms/step - loss: 0.6354 - acc: 0.7129 - val_loss: 0.8826 - val_acc: 0.5914\n",
      "Epoch 4/100\n",
      "836/836 [==============================] - 2s 2ms/step - loss: 0.4971 - acc: 0.8146 - val_loss: 1.1636 - val_acc: 0.4731\n",
      "Epoch 5/100\n",
      "836/836 [==============================] - 2s 2ms/step - loss: 0.5045 - acc: 0.7787 - val_loss: 0.9016 - val_acc: 0.6129\n",
      "Epoch 6/100\n",
      "836/836 [==============================] - 2s 2ms/step - loss: 0.4229 - acc: 0.8481 - val_loss: 0.9924 - val_acc: 0.5269\n",
      "Epoch 7/100\n",
      "836/836 [==============================] - 2s 2ms/step - loss: 0.3637 - acc: 0.8684 - val_loss: 0.9367 - val_acc: 0.5699\n",
      "Epoch 8/100\n",
      "836/836 [==============================] - 2s 2ms/step - loss: 0.2891 - acc: 0.9127 - val_loss: 0.9661 - val_acc: 0.6452\n",
      "Epoch 9/100\n",
      "836/836 [==============================] - 2s 2ms/step - loss: 0.2759 - acc: 0.9139 - val_loss: 0.9592 - val_acc: 0.6129\n",
      "Epoch 10/100\n",
      "836/836 [==============================] - 1s 2ms/step - loss: 0.2497 - acc: 0.9151 - val_loss: 1.1872 - val_acc: 0.5161\n",
      "Epoch 11/100\n",
      "836/836 [==============================] - 2s 2ms/step - loss: 0.1877 - acc: 0.9581 - val_loss: 0.9641 - val_acc: 0.6667\n",
      "Epoch 12/100\n",
      "836/836 [==============================] - 1s 2ms/step - loss: 0.2048 - acc: 0.9366 - val_loss: 1.0932 - val_acc: 0.5699\n",
      "Epoch 13/100\n",
      "836/836 [==============================] - 1s 2ms/step - loss: 0.1308 - acc: 0.9892 - val_loss: 0.9608 - val_acc: 0.6559\n",
      "Epoch 14/100\n",
      "836/836 [==============================] - 2s 2ms/step - loss: 0.1142 - acc: 0.9821 - val_loss: 1.6132 - val_acc: 0.4946\n",
      "Epoch 15/100\n",
      "836/836 [==============================] - 2s 2ms/step - loss: 0.1479 - acc: 0.9653 - val_loss: 1.1332 - val_acc: 0.5914\n",
      "Epoch 16/100\n",
      "836/836 [==============================] - 1s 2ms/step - loss: 0.0850 - acc: 0.9916 - val_loss: 0.9796 - val_acc: 0.6667\n",
      "Epoch 17/100\n",
      "836/836 [==============================] - 2s 2ms/step - loss: 0.0717 - acc: 0.9940 - val_loss: 1.4037 - val_acc: 0.5484\n",
      "Epoch 18/100\n",
      "836/836 [==============================] - 2s 2ms/step - loss: 0.1327 - acc: 0.9653 - val_loss: 1.1070 - val_acc: 0.6022\n",
      "Epoch 19/100\n",
      "836/836 [==============================] - 2s 2ms/step - loss: 0.0549 - acc: 0.9976 - val_loss: 1.0773 - val_acc: 0.6344\n",
      "Epoch 20/100\n",
      "836/836 [==============================] - 2s 2ms/step - loss: 0.0440 - acc: 0.9976 - val_loss: 1.1317 - val_acc: 0.6237\n",
      "Epoch 21/100\n",
      "836/836 [==============================] - 1s 2ms/step - loss: 0.1270 - acc: 0.9605 - val_loss: 1.0743 - val_acc: 0.6344\n",
      "Epoch 22/100\n",
      "836/836 [==============================] - 2s 2ms/step - loss: 0.0413 - acc: 0.9988 - val_loss: 1.1832 - val_acc: 0.6237\n",
      "Epoch 23/100\n",
      "836/836 [==============================] - 2s 2ms/step - loss: 0.0323 - acc: 0.9976 - val_loss: 1.1102 - val_acc: 0.6559\n",
      "Epoch 24/100\n",
      "836/836 [==============================] - 2s 2ms/step - loss: 0.0275 - acc: 0.9988 - val_loss: 1.1279 - val_acc: 0.6237\n",
      "Epoch 25/100\n",
      "836/836 [==============================] - 2s 2ms/step - loss: 0.0327 - acc: 0.9964 - val_loss: 1.4703 - val_acc: 0.5914\n",
      "Epoch 26/100\n",
      "836/836 [==============================] - 2s 2ms/step - loss: 0.0325 - acc: 0.9952 - val_loss: 1.2013 - val_acc: 0.6559\n",
      "Epoch 27/100\n",
      "836/836 [==============================] - 2s 2ms/step - loss: 0.0239 - acc: 0.9988 - val_loss: 1.3075 - val_acc: 0.6237\n",
      "Epoch 28/100\n",
      "836/836 [==============================] - 2s 2ms/step - loss: 0.0182 - acc: 0.9988 - val_loss: 1.7106 - val_acc: 0.5269\n",
      "Epoch 29/100\n",
      "836/836 [==============================] - 2s 2ms/step - loss: 0.0982 - acc: 0.9605 - val_loss: 1.2360 - val_acc: 0.6129\n",
      "Epoch 30/100\n",
      "836/836 [==============================] - 2s 2ms/step - loss: 0.0182 - acc: 0.9988 - val_loss: 1.2664 - val_acc: 0.6022\n",
      "Epoch 31/100\n",
      "836/836 [==============================] - 1s 2ms/step - loss: 0.0169 - acc: 0.9988 - val_loss: 1.2530 - val_acc: 0.6022\n",
      "Epoch 32/100\n",
      "836/836 [==============================] - 2s 2ms/step - loss: 0.0141 - acc: 0.9988 - val_loss: 1.2798 - val_acc: 0.6129\n",
      "Epoch 33/100\n",
      "836/836 [==============================] - 2s 2ms/step - loss: 0.0131 - acc: 0.9988 - val_loss: 1.3816 - val_acc: 0.6237\n",
      "Epoch 34/100\n",
      "836/836 [==============================] - 2s 2ms/step - loss: 0.0148 - acc: 0.9976 - val_loss: 1.2543 - val_acc: 0.6344\n",
      "Epoch 35/100\n",
      "836/836 [==============================] - 2s 2ms/step - loss: 0.0121 - acc: 0.9988 - val_loss: 1.3255 - val_acc: 0.6344\n",
      "Epoch 36/100\n",
      "836/836 [==============================] - 1s 2ms/step - loss: 0.0108 - acc: 0.9988 - val_loss: 1.3837 - val_acc: 0.6344\n",
      "Epoch 37/100\n",
      "836/836 [==============================] - 1s 2ms/step - loss: 0.0095 - acc: 0.9988 - val_loss: 1.4852 - val_acc: 0.6344\n",
      "Epoch 38/100\n",
      "836/836 [==============================] - 1s 2ms/step - loss: 0.0383 - acc: 0.9880 - val_loss: 1.6011 - val_acc: 0.6129\n",
      "Epoch 39/100\n",
      "836/836 [==============================] - 1s 2ms/step - loss: 0.0107 - acc: 0.9988 - val_loss: 1.4612 - val_acc: 0.6344\n",
      "Epoch 40/100\n",
      "836/836 [==============================] - 1s 2ms/step - loss: 0.0129 - acc: 0.9988 - val_loss: 1.6874 - val_acc: 0.6129\n",
      "Epoch 41/100\n",
      "768/836 [==========================>...] - ETA: 0s - loss: 0.0081 - acc: 0.9974"
     ]
    }
   ],
   "source": [
    "model.compile(loss = 'categorical_crossentropy', optimizer='rmsprop',metrics = ['accuracy'])\n",
    "history = model.fit(input_train, y_train,\n",
    "                    epochs=epochs,\n",
    "                    batch_size=batch_size,\n",
    "                    validation_split= 0.1)\n",
    "\n",
    "\n",
    "model.save_weights(saved_model)   "
   ]
  },
  {
   "cell_type": "markdown",
   "metadata": {},
   "source": [
    "# 'Testing And Evalaution'\n",
    "1- classification report"
   ]
  },
  {
   "cell_type": "code",
   "execution_count": 14,
   "metadata": {},
   "outputs": [
    {
     "name": "stdout",
     "output_type": "stream",
     "text": [
      "              precision    recall  f1-score   support\n",
      "\n",
      "           0       0.00      0.00      0.00        85\n",
      "           1       0.58      1.00      0.73       150\n",
      "           2       0.00      0.00      0.00        24\n",
      "\n",
      "   micro avg       0.58      0.58      0.58       259\n",
      "   macro avg       0.19      0.33      0.24       259\n",
      "weighted avg       0.34      0.58      0.42       259\n",
      "\n"
     ]
    },
    {
     "name": "stderr",
     "output_type": "stream",
     "text": [
      "/Users/xabuka/anaconda3/lib/python3.6/site-packages/sklearn/metrics/classification.py:1143: UndefinedMetricWarning: Precision and F-score are ill-defined and being set to 0.0 in labels with no predicted samples.\n",
      "  'precision', 'predicted', average, warn_for)\n",
      "/Users/xabuka/anaconda3/lib/python3.6/site-packages/sklearn/metrics/classification.py:1143: UndefinedMetricWarning: Precision and F-score are ill-defined and being set to 0.0 in labels with no predicted samples.\n",
      "  'precision', 'predicted', average, warn_for)\n",
      "/Users/xabuka/anaconda3/lib/python3.6/site-packages/sklearn/metrics/classification.py:1143: UndefinedMetricWarning: Precision and F-score are ill-defined and being set to 0.0 in labels with no predicted samples.\n",
      "  'precision', 'predicted', average, warn_for)\n"
     ]
    }
   ],
   "source": [
    "#test and Evaluation\n",
    "model.load_weights(saved_model)\n",
    "predicted = model.predict(input_test, verbose = 2, batch_size = batch_size)\n",
    "print(metrics.classification_report(y_test.argmax(axis=1), predicted.argmax(axis=1)))\n"
   ]
  },
  {
   "cell_type": "markdown",
   "metadata": {},
   "source": [
    "2. Accuracy and Confuisn matrix"
   ]
  },
  {
   "cell_type": "code",
   "execution_count": 15,
   "metadata": {},
   "outputs": [
    {
     "name": "stdout",
     "output_type": "stream",
     "text": [
      "0.5791505791505791\n",
      "Accuracy: 57.92%\n",
      "[[  0  85   0]\n",
      " [  0 150   0]\n",
      " [  0  24   0]]\n"
     ]
    }
   ],
   "source": [
    "#predicted = np.argmax(predicted, axis=1)\n",
    "metrics.accuracy_score(y_test.argmax(axis=1), predicted.argmax(axis=1))\n",
    "print(metrics.accuracy_score(y_test.argmax(axis=1), predicted.argmax(axis=1)))\n",
    "scores= model.evaluate(input_test, y_test,verbose=0)\n",
    "print(\"Accuracy: %.2f%%\" % (scores[1]*100))\n",
    "\n",
    "conf_mat = metrics.confusion_matrix(y_test.argmax(axis=1), predicted.argmax(axis=1))\n",
    "print(conf_mat)"
   ]
  },
  {
   "cell_type": "markdown",
   "metadata": {},
   "source": [
    "3. Plot"
   ]
  },
  {
   "cell_type": "code",
   "execution_count": 16,
   "metadata": {},
   "outputs": [
    {
     "data": {
      "image/png": "[encoded data removed]",
      "text/plain": [
       "<Figure size 720x720 with 2 Axes>"
      ]
     },
     "metadata": {},
     "output_type": "display_data"
    }
   ],
   "source": [
    "fig, ax = plt.subplots(figsize=(10,10))\n",
    "sns.heatmap(conf_mat, annot=True, fmt='d',\n",
    "            xticklabels=['negative','positive','no'], yticklabels=['negative','positive','no'])\n",
    "plt.ylabel('Actual')\n",
    "plt.xlabel('Predicted')\n",
    "plt.show()"
   ]
  },
  {
   "cell_type": "code",
   "execution_count": null,
   "metadata": {},
   "outputs": [],
   "source": []
  }
 ],
 "metadata": {
  "kernelspec": {
   "display_name": "Python 3",
   "language": "python",
   "name": "python3"
  },
  "language_info": {
   "codemirror_mode": {
    "name": "ipython",
    "version": 3
   },
   "file_extension": ".py",
   "mimetype": "text/x-python",
   "name": "python",
   "nbconvert_exporter": "python",
   "pygments_lexer": "ipython3",
   "version": "3.6.5"
  }
 },
 "nbformat": 4,
 "nbformat_minor": 2
}
